{
  "nbformat": 4,
  "nbformat_minor": 0,
  "metadata": {
    "accelerator": "GPU",
    "colab": {
      "name": "pathawayer_dnn_colearn_01.ipynb",
      "provenance": [],
      "collapsed_sections": [],
      "authorship_tag": "ABX9TyOKqHHZtyAzrqjiimWsuL8s",
      "include_colab_link": true
    },
    "kernelspec": {
      "display_name": "Python 3",
      "name": "python3"
    },
    "language_info": {
      "name": "python"
    }
  },
  "cells": [
    {
      "cell_type": "markdown",
      "metadata": {
        "id": "view-in-github",
        "colab_type": "text"
      },
      "source": [
        "<a href=\"https://colab.research.google.com/github/turguthaspolat/pathawayer/blob/main/pathawayer_dnn_colearn_01.ipynb\" target=\"_parent\"><img src=\"https://colab.research.google.com/assets/colab-badge.svg\" alt=\"Open In Colab\"/></a>"
      ]
    },
    {
      "cell_type": "markdown",
      "metadata": {
        "id": "0wTQ5_mbOPiI"
      },
      "source": [
        "\n",
        "<center>\n",
        "<h1><b>Predicting Land Cover Change</b></h1>\n",
        "<h2>By using remote sensing data - within the act of compromising AI & Blockchain.</h2>\n",
        "<h5>Project code name: <b>PathAwayer</b></h5>\n",
        "\n",
        "</center>\n",
        "<p><font face=\"cambria\" color=\"gray\"><i>** This project is carried out within my doctoral studies, which is researching artificial intelligence blockchain interoperability.</i></font></p>\n",
        "\n",
        "<font face=\"cambria\" color=\"gray\"><i>** This notebook has been inspired by the [Chris Brown & Nick Clinton EarthEngine + Tensorflow presentation](https://www.youtube.com/watch?v=w-1xfF0IaeU). It shows the step by step how to integrate Google Earth Engine and TensorFlow 2.0 in the same pipeline (EE->Tensorflow->EE).\n",
        "\n",
        "The codes used are inspired by the works of [Cesar Aybar](https://csaybar.github.io/).</i></font>\n",
        "\n",
        "---\n",
        "<h2>Problem Area</h2>\n",
        "<p>The natural land cover of the earth has been subjected to great changes over many years depending on human activities and different usage methods.\n",
        "\n",
        "Large cities in developing countries are subject to a dynamic urbanization process because of population growth and migration. Since the acceleration of the urbanization process, settlement components that are built continuously cause significant changes in land cover and use.\n",
        "\n",
        "These changes have a negative effect on the natural cover and **ecosystem**. Therefore, regular follow-up of changes due to urbanization and detecting the current situation is important.\n",
        "\n",
        "One of the most important image processing techniques in **remote sensing** science is *classification*. Utilizing the **Deep Neural Network** (DNN) binary-classification in prediction with remote sensing images, many use cases can be applied, such as land cover and usage purpose, water resources management, and change analysis.\n",
        "\n",
        "In this project, by using remote sensing satellite images, it's tried to estimate the vegetation cover and residential areas at a simple level with DNN binary classification for the Marmaris region in 2019.\n",
        "</p>\n",
        "<h2>Using Platforms</h2>\n",
        "<p>As a senior solutions architect who always tries to find the most optimized way, I guess the below architecture would be more sensible for this research project.</p>\n",
        "\n",
        "*   [Earth Engine](https://earthengine.google.com/) — geospatial analysis platform\n",
        "*   [Earth Engine Data Catalog](https://developers.google.com/earth-engine/datasets/) — comprehensive archive of geospatial data (including NLCD)\n",
        "*   [TensorFlow](https://www.tensorflow.org/) — machine learning platform with FCNN capabilities\n",
        "*   [AI Platform](https://cloud.google.com/ai-platform/) — TensorFlow model training\n",
        "*   [Colab](http://colab.research.google.com/) — Jupyter notebook server for workflow development\n",
        "<center>\n",
        "<img src=\"https://miro.medium.com/max/3200/0*xVXtPYUw8h2bvd7M\">\n",
        "</center> \n",
        "\n",
        "<h2>Data from Google Earth Engine</h2>\n",
        "\n",
        "Within the scope of the project, the [Landsat 8 Surface Reflectance Tier 1](https://developers.google.com/earth-engine/datasets/catalog/LANDSAT_LC08_C01_T1_SR) data set, *freely available to use* - by Google Earth Engine (GEE) was used.\n",
        "LANDSAT satellites, a joint program of USGS and NASA, provide images of the entire earth's surface at a resolution of 30 meters every two weeks, including multispectral and thermal data.\n",
        "\n",
        "This dataset is atmospheric corrected surface reflection from Landsat 8 OLI / TIRS sensors. These images contain 5 visible and near infrared (VNIR) bands and 2 short-wave infrared (SWIR) bands processed into orthorectified surface reflection and two thermal infrared (TIR) ​​bands processed to orthorectified luminance temperature.\n",
        "\n",
        "The data obtained are stored separately for each band detected by the sensor. In order to create a multicolored image, band merging of the downloaded image has been done. For the purpose of this study, a multicolored image was created by combining Red-Green-Blue and Near Infrared bands (Band 2-Band 3- Band 4-Band 5 for Landsat 8).\n",
        "\n",
        "<h3>Prediction Area</h3>\n",
        "\n",
        "In the project, an area of approximately 10 km2 (3.5km x 3km) that will cover the **Marmaris** / Akyaka - Turkey environment is determined as the predction area and the model is planned to estimate over this area.\n",
        "\n",
        "\n",
        "<center>\n",
        "<img src=\"https://media-exp1.licdn.com/dms/image/C4D22AQHEl6i4NLL-Ng/feedshare-shrink_800/0/1619435849862?e=1623283200&v=beta&t=30ypGSa85v0plKJ8Z94kD26ykIHqYUwSSGw9XBmpSPU\">\n",
        "</center> \n",
        "\n",
        "<h3>Labeling Test/Trainind Data</h3>\n",
        "\n",
        "Data sets consist of 2 classes via Google Earth Engine; [1] It is simply labeled into Vegetation (green dots) and [2] Settlement Area (red dots), with 800 (400: [1] - 400: [2]) training and 200 (100: [1]) - 100: [2]) tagged via GEE as the test data set. The mentioned labeling table has been saved as an asset in GEE.\n",
        "\n",
        "<h2>Methods</h2>\n",
        "\n",
        "In this project, **TensorFlow Keras Sequential model** is used as the DNN model.\n",
        "While the model is being trained, *Keras callback* editor calls have been added, which allow monitoring the training process in order to accelerate convergence, avoid overfitting and reach the most optimum model.\n",
        "\n",
        "**validation_loss** is set to halt the training process if it loses value at 10 epochs. Finally, in the model, the **ModelCheckpoint** function has been adjusted to get the value where the **validation_loss** value reaches the best value by saving it to the given variable.\n",
        "\n",
        "The model compilation is **Stochastic Gradient Descent (SGD)** and **binary_crossentropy** loss function is used for its optimization.\n",
        "\n",
        "\n"
      ]
    },
    {
      "cell_type": "markdown",
      "metadata": {
        "id": "oxnK07XXuQRo"
      },
      "source": [
        "### 1. **Authentication**\n",
        "Needs interaction with Google services as mentioned in the proposed architecture. "
      ]
    },
    {
      "cell_type": "markdown",
      "metadata": {
        "id": "ksV0TIlYNqbx"
      },
      "source": [
        "#### 1.1 Google Cloud\n",
        "\n",
        "Google Cloud Storage bucket will serve as a bridge between GEE and Colab."
      ]
    },
    {
      "cell_type": "code",
      "metadata": {
        "id": "9Uj_IwNUMmJG"
      },
      "source": [
        "from google.colab import auth\n",
        "auth.authenticate_user()"
      ],
      "execution_count": null,
      "outputs": []
    },
    {
      "cell_type": "markdown",
      "metadata": {
        "id": "40Bb1yewNvfp"
      },
      "source": [
        "#### 1.2 Google Earth Engine\n",
        "it's possible to run the **Earth Engine Python API** in a cloud environment as free of use."
      ]
    },
    {
      "cell_type": "code",
      "metadata": {
        "id": "VdLd4VcANzBs",
        "colab": {
          "base_uri": "https://localhost:8080/"
        },
        "outputId": "422bb9d4-117f-4de6-9358-40dcb5d7600c"
      },
      "source": [
        "import ee\n",
        "ee.Authenticate()\n",
        "ee.Initialize()"
      ],
      "execution_count": null,
      "outputs": [
        {
          "output_type": "stream",
          "text": [
            "To authorize access needed by Earth Engine, open the following URL in a web browser and follow the instructions. If the web browser does not start automatically, please manually browse the URL below.\n",
            "\n",
            "    https://accounts.google.com/o/oauth2/auth?client_id=517222506229-vsmmajv00ul0bs7p89v5m89qs8eb9359.apps.googleusercontent.com&scope=https%3A%2F%2Fwww.googleapis.com%2Fauth%2Fearthengine+https%3A%2F%2Fwww.googleapis.com%2Fauth%2Fdevstorage.full_control&redirect_uri=urn%3Aietf%3Awg%3Aoauth%3A2.0%3Aoob&response_type=code&code_challenge=CN4BOj_R6JloqF7MzrC6xNNYVUutmCEi8R52RjlzgU4&code_challenge_method=S256\n",
            "\n",
            "The authorization workflow will generate a code, which you should paste in the box below. \n",
            "Enter verification code: 4/1AY0e-g4ovCHAGHe3U2rDrcyryT7m9rau-Ll2Lw09pQ9eU58_-BrBVLpjVGw\n",
            "\n",
            "Successfully saved authorization token.\n"
          ],
          "name": "stdout"
        }
      ]
    },
    {
      "cell_type": "markdown",
      "metadata": {
        "id": "0N7sdqmZN1yL"
      },
      "source": [
        "### **2. Initializing Frameworks and Libraries**\n",
        "**Tensorflow** is using via Google Colab (Jupyter notebook server) to train and test the model.\n",
        "\n",
        "Integration of Google Cloud with AI Platform will provide to connect Google Earth Engine data set data directly to TensorFlow models in real-time. Training and test data sets on the data sets are being recorded on **Google Cloud Storage**.\n",
        "\n",
        "**Folium** library, *which uses the JavaScript leaflet.js module in the background and provides interactive map display in Python*, will be used to visualize the data sets on the map."
      ]
    },
    {
      "cell_type": "code",
      "metadata": {
        "id": "xk2AdjwMb5c-"
      },
      "source": [
        "!pip install --upgrade tensorflow"
      ],
      "execution_count": null,
      "outputs": []
    },
    {
      "cell_type": "code",
      "metadata": {
        "colab": {
          "base_uri": "https://localhost:8080/"
        },
        "id": "ZYxjWLC7QMCZ",
        "outputId": "932ecd13-0e19-4d84-c9b2-ae542119ba4d"
      },
      "source": [
        "import tensorflow as tf\n",
        "print('Tensorflow version: ' + tf.__version__)\n",
        "\n",
        "import folium\n",
        "print('Folium version: ' + folium.__version__)\n",
        "\n",
        "# Define the URL format used for Earth Engine generated map tiles.\n",
        "EE_TILES = 'https://earthengine.googleapis.com/map/{mapid}/{{z}}/{{x}}/{{y}}?token={token}'"
      ],
      "execution_count": null,
      "outputs": [
        {
          "output_type": "stream",
          "text": [
            "Tensorflow version: 2.5.0\n",
            "Folium version: 0.8.3\n"
          ],
          "name": "stdout"
        }
      ]
    },
    {
      "cell_type": "markdown",
      "metadata": {
        "id": "SS8iU-MDRnFO"
      },
      "source": [
        "### **3. Display Map**\n",
        "Display google earth engine map feature collection; `ee.Features` and `ee.Images` on map using folium."
      ]
    },
    {
      "cell_type": "code",
      "metadata": {
        "id": "JZ7ya9DyR0th"
      },
      "source": [
        "def Mapdisplay(center, dicc, Tiles=\"OpensTreetMap\",zoom_start=10):\n",
        "    '''\n",
        "    :param center: Center of the map (Latitude and Longitude).\n",
        "    :param dicc: Earth Engine Geometries or Tiles dictionary\n",
        "    :param Tiles: Mapbox Bright,Mapbox Control Room,Stamen Terrain,Stamen Toner,stamenwatercolor,cartodbpositron.\n",
        "    :zoom_start: Initial zoom level for the map.\n",
        "    :return: A folium.Map object.\n",
        "    '''\n",
        "    mapViz = folium.Map(location=center,tiles=Tiles, zoom_start=zoom_start)\n",
        "    for k,v in dicc.items():\n",
        "      if ee.image.Image in [type(x) for x in v.values()]:\n",
        "        folium.TileLayer(\n",
        "            tiles = v[\"tile_fetcher\"].url_format,\n",
        "            attr  = 'Google Earth Engine',\n",
        "            overlay =True,\n",
        "            name  = k\n",
        "          ).add_to(mapViz)\n",
        "      else:\n",
        "        folium.GeoJson(\n",
        "        data = v,\n",
        "        name = k\n",
        "          ).add_to(mapViz)\n",
        "    mapViz.add_child(folium.LayerControl())\n",
        "    return mapViz"
      ],
      "execution_count": null,
      "outputs": []
    },
    {
      "cell_type": "markdown",
      "metadata": {
        "id": "IAwz4a7kSsXw"
      },
      "source": [
        "#### 3.1 Displaying Defined Prediction Area\n",
        "As defining our prediction area (Marmaris-Akyaka, Turkey), it will be passed the vector using `ee.Geometry.*` module supported by GEE, including `Point` (a list of coordinates in some projection), `LineString` (a list of points), `LinearRing` (a closed LineString), and `Polygon`. \n",
        "\n",
        "GEE also supports **MultiPoint**, **MultiLineString**, and **MultiPolygon**. The [GeoJSON](https://geojson.org/) GeometryCollection is also supported."
      ]
    },
    {
      "cell_type": "code",
      "metadata": {
        "colab": {
          "base_uri": "https://localhost:8080/",
          "height": 968
        },
        "id": "6Dparl17SrlS",
        "outputId": "bfcddf04-543d-4091-bbde-95711de9e5d5"
      },
      "source": [
        "# Prediction Area - Marmaris-Akyaka, Turkey\n",
        "xmin,ymin,xmax,ymax = [28.3159, 37.0471, 28.3566, 37.0652]\n",
        "\n",
        "# Defining workspace coordinates for Google Earth Engine\n",
        "Marmaris = ee.Geometry.Rectangle([xmin,ymin,xmax,ymax])\n",
        "center = Marmaris.centroid().getInfo()['coordinates']\n",
        "center.reverse()\n",
        "Mapdisplay(center,{'Marmaris':Marmaris.getInfo()},zoom_start=12)"
      ],
      "execution_count": null,
      "outputs": [
        {
          "output_type": "execute_result",
          "data": {
            "text/html": [
              "<div style=\"width:100%;\"><div style=\"position:relative;width:100%;height:0;padding-bottom:60%;\"><span style=\"color:#565656\">Make this Notebook Trusted to load map: File -> Trust Notebook</span><iframe src=\"about:blank\" style=\"position:absolute;width:100%;height:100%;left:0;top:0;border:none !important;\" data-html=%3C%21DOCTYPE%20html%3E%0A%3Chead%3E%20%20%20%20%0A%20%20%20%20%3Cmeta%20http-equiv%3D%22content-type%22%20content%3D%22text/html%3B%20charset%3DUTF-8%22%20/%3E%0A%20%20%20%20%3Cscript%3EL_PREFER_CANVAS%3Dfalse%3B%20L_NO_TOUCH%3Dfalse%3B%20L_DISABLE_3D%3Dfalse%3B%3C/script%3E%0A%20%20%20%20%3Cscript%20src%3D%22https%3A//cdn.jsdelivr.net/npm/leaflet%401.4.0/dist/leaflet.js%22%3E%3C/script%3E%0A%20%20%20%20%3Cscript%20src%3D%22https%3A//code.jquery.com/jquery-1.12.4.min.js%22%3E%3C/script%3E%0A%20%20%20%20%3Cscript%20src%3D%22https%3A//maxcdn.bootstrapcdn.com/bootstrap/3.2.0/js/bootstrap.min.js%22%3E%3C/script%3E%0A%20%20%20%20%3Cscript%20src%3D%22https%3A//cdnjs.cloudflare.com/ajax/libs/Leaflet.awesome-markers/2.0.2/leaflet.awesome-markers.js%22%3E%3C/script%3E%0A%20%20%20%20%3Clink%20rel%3D%22stylesheet%22%20href%3D%22https%3A//cdn.jsdelivr.net/npm/leaflet%401.4.0/dist/leaflet.css%22/%3E%0A%20%20%20%20%3Clink%20rel%3D%22stylesheet%22%20href%3D%22https%3A//maxcdn.bootstrapcdn.com/bootstrap/3.2.0/css/bootstrap.min.css%22/%3E%0A%20%20%20%20%3Clink%20rel%3D%22stylesheet%22%20href%3D%22https%3A//maxcdn.bootstrapcdn.com/bootstrap/3.2.0/css/bootstrap-theme.min.css%22/%3E%0A%20%20%20%20%3Clink%20rel%3D%22stylesheet%22%20href%3D%22https%3A//maxcdn.bootstrapcdn.com/font-awesome/4.6.3/css/font-awesome.min.css%22/%3E%0A%20%20%20%20%3Clink%20rel%3D%22stylesheet%22%20href%3D%22https%3A//cdnjs.cloudflare.com/ajax/libs/Leaflet.awesome-markers/2.0.2/leaflet.awesome-markers.css%22/%3E%0A%20%20%20%20%3Clink%20rel%3D%22stylesheet%22%20href%3D%22https%3A//rawcdn.githack.com/python-visualization/folium/master/folium/templates/leaflet.awesome.rotate.css%22/%3E%0A%20%20%20%20%3Cstyle%3Ehtml%2C%20body%20%7Bwidth%3A%20100%25%3Bheight%3A%20100%25%3Bmargin%3A%200%3Bpadding%3A%200%3B%7D%3C/style%3E%0A%20%20%20%20%3Cstyle%3E%23map%20%7Bposition%3Aabsolute%3Btop%3A0%3Bbottom%3A0%3Bright%3A0%3Bleft%3A0%3B%7D%3C/style%3E%0A%20%20%20%20%0A%20%20%20%20%3Cmeta%20name%3D%22viewport%22%20content%3D%22width%3Ddevice-width%2C%0A%20%20%20%20%20%20%20%20initial-scale%3D1.0%2C%20maximum-scale%3D1.0%2C%20user-scalable%3Dno%22%20/%3E%0A%20%20%20%20%3Cstyle%3E%23map_a3a2fc08bc9447aa86f7bc78506bdcb3%20%7B%0A%20%20%20%20%20%20%20%20position%3A%20relative%3B%0A%20%20%20%20%20%20%20%20width%3A%20100.0%25%3B%0A%20%20%20%20%20%20%20%20height%3A%20100.0%25%3B%0A%20%20%20%20%20%20%20%20left%3A%200.0%25%3B%0A%20%20%20%20%20%20%20%20top%3A%200.0%25%3B%0A%20%20%20%20%20%20%20%20%7D%0A%20%20%20%20%3C/style%3E%0A%3C/head%3E%0A%3Cbody%3E%20%20%20%20%0A%20%20%20%20%0A%20%20%20%20%3Cdiv%20class%3D%22folium-map%22%20id%3D%22map_a3a2fc08bc9447aa86f7bc78506bdcb3%22%20%3E%3C/div%3E%0A%3C/body%3E%0A%3Cscript%3E%20%20%20%20%0A%20%20%20%20%0A%20%20%20%20%0A%20%20%20%20%20%20%20%20var%20bounds%20%3D%20null%3B%0A%20%20%20%20%0A%0A%20%20%20%20var%20map_a3a2fc08bc9447aa86f7bc78506bdcb3%20%3D%20L.map%28%0A%20%20%20%20%20%20%20%20%27map_a3a2fc08bc9447aa86f7bc78506bdcb3%27%2C%20%7B%0A%20%20%20%20%20%20%20%20center%3A%20%5B37.05615137814542%2C%2028.33624999999642%5D%2C%0A%20%20%20%20%20%20%20%20zoom%3A%2012%2C%0A%20%20%20%20%20%20%20%20maxBounds%3A%20bounds%2C%0A%20%20%20%20%20%20%20%20layers%3A%20%5B%5D%2C%0A%20%20%20%20%20%20%20%20worldCopyJump%3A%20false%2C%0A%20%20%20%20%20%20%20%20crs%3A%20L.CRS.EPSG3857%2C%0A%20%20%20%20%20%20%20%20zoomControl%3A%20true%2C%0A%20%20%20%20%20%20%20%20%7D%29%3B%0A%0A%0A%20%20%20%20%0A%20%20%20%20var%20tile_layer_3df0b58e6b5c4294a8dbcd69d0294192%20%3D%20L.tileLayer%28%0A%20%20%20%20%20%20%20%20%27https%3A//%7Bs%7D.tile.openstreetmap.org/%7Bz%7D/%7Bx%7D/%7By%7D.png%27%2C%0A%20%20%20%20%20%20%20%20%7B%0A%20%20%20%20%20%20%20%20%22attribution%22%3A%20null%2C%0A%20%20%20%20%20%20%20%20%22detectRetina%22%3A%20false%2C%0A%20%20%20%20%20%20%20%20%22maxNativeZoom%22%3A%2018%2C%0A%20%20%20%20%20%20%20%20%22maxZoom%22%3A%2018%2C%0A%20%20%20%20%20%20%20%20%22minZoom%22%3A%200%2C%0A%20%20%20%20%20%20%20%20%22noWrap%22%3A%20false%2C%0A%20%20%20%20%20%20%20%20%22opacity%22%3A%201%2C%0A%20%20%20%20%20%20%20%20%22subdomains%22%3A%20%22abc%22%2C%0A%20%20%20%20%20%20%20%20%22tms%22%3A%20false%0A%7D%29.addTo%28map_a3a2fc08bc9447aa86f7bc78506bdcb3%29%3B%0A%20%20%20%20%0A%20%20%20%20%20%20%20%20var%20geo_json_39e555e9ea6f4afc99176b9f150d736f%20%3D%20L.geoJson%28%0A%20%20%20%20%20%20%20%20%20%20%20%20%7B%22features%22%3A%20%5B%7B%22geometry%22%3A%20%7B%22coordinates%22%3A%20%5B%5B%5B28.3159%2C%2037.0471%5D%2C%20%5B28.3566%2C%2037.0471%5D%2C%20%5B28.3566%2C%2037.0652%5D%2C%20%5B28.3159%2C%2037.0652%5D%2C%20%5B28.3159%2C%2037.0471%5D%5D%5D%2C%20%22type%22%3A%20%22Polygon%22%7D%2C%20%22properties%22%3A%20%7B%22highlight%22%3A%20%7B%7D%2C%20%22style%22%3A%20%7B%7D%7D%2C%20%22type%22%3A%20%22Feature%22%7D%5D%2C%20%22type%22%3A%20%22FeatureCollection%22%7D%2C%0A%20%20%20%20%20%20%20%20%20%20%20%20%7B%0A%20%20%20%20%20%20%20%20%20%20%20%20%7D%0A%20%20%20%20%20%20%20%20%29.addTo%28map_a3a2fc08bc9447aa86f7bc78506bdcb3%20%29%3B%0A%20%20%20%20%20%20%20%20geo_json_39e555e9ea6f4afc99176b9f150d736f.setStyle%28function%28feature%29%20%7Breturn%20feature.properties.style%3B%7D%29%3B%0A%20%20%20%20%20%20%20%20%0A%20%20%20%20%0A%20%20%20%20%20%20%20%20%20%20%20%20var%20layer_control_6c57db9349e84e23af31faeb257cd467%20%3D%20%7B%0A%20%20%20%20%20%20%20%20%20%20%20%20%20%20%20%20base_layers%20%3A%20%7B%20%22openstreetmap%22%20%3A%20tile_layer_3df0b58e6b5c4294a8dbcd69d0294192%2C%20%7D%2C%0A%20%20%20%20%20%20%20%20%20%20%20%20%20%20%20%20overlays%20%3A%20%7B%20%22Marmaris%22%20%3A%20geo_json_39e555e9ea6f4afc99176b9f150d736f%2C%20%7D%0A%20%20%20%20%20%20%20%20%20%20%20%20%20%20%20%20%7D%3B%0A%20%20%20%20%20%20%20%20%20%20%20%20L.control.layers%28%0A%20%20%20%20%20%20%20%20%20%20%20%20%20%20%20%20layer_control_6c57db9349e84e23af31faeb257cd467.base_layers%2C%0A%20%20%20%20%20%20%20%20%20%20%20%20%20%20%20%20layer_control_6c57db9349e84e23af31faeb257cd467.overlays%2C%0A%20%20%20%20%20%20%20%20%20%20%20%20%20%20%20%20%7Bposition%3A%20%27topright%27%2C%0A%20%20%20%20%20%20%20%20%20%20%20%20%20%20%20%20%20collapsed%3A%20true%2C%0A%20%20%20%20%20%20%20%20%20%20%20%20%20%20%20%20%20autoZIndex%3A%20true%0A%20%20%20%20%20%20%20%20%20%20%20%20%20%20%20%20%7D%29.addTo%28map_a3a2fc08bc9447aa86f7bc78506bdcb3%29%3B%0A%20%20%20%20%20%20%20%20%20%20%20%20%0A%20%20%20%20%20%20%20%20%0A%3C/script%3E onload=\"this.contentDocument.open();this.contentDocument.write(    decodeURIComponent(this.getAttribute('data-html')));this.contentDocument.close();\" allowfullscreen webkitallowfullscreen mozallowfullscreen></iframe></div></div>"
            ],
            "text/plain": [
              "<folium.folium.Map at 0x7f2a4c1fbf10>"
            ]
          },
          "metadata": {
            "tags": []
          },
          "execution_count": 6
        }
      ]
    },
    {
      "cell_type": "markdown",
      "metadata": {
        "id": "4tBzV-9VYRmw"
      },
      "source": [
        "#### 3.2 Displaying Labeled Test/Training Dataset\n",
        "It's been already generated points labeled as (green) agriculture and (red) non-agirculture.\n",
        "\n",
        "- Train dataset (800 points):\n",
        "  - 400 labeled as \"agriculture\"\n",
        "  - 400 labeled as \"non agriculture\" \n",
        "  \n",
        "- Test dataset (200 points):\n",
        "  - 100  labeled as \"agriculture\"\n",
        "  - 100  labeled as \"non agriculture\"\n"
      ]
    },
    {
      "cell_type": "code",
      "metadata": {
        "colab": {
          "base_uri": "https://localhost:8080/",
          "height": 968
        },
        "id": "jjMl2cuPZ_yq",
        "outputId": "a591e7c0-a115-442d-bc76-2b5dcba4f252"
      },
      "source": [
        "# Importing the train/test dataset from GEE\n",
        "train_agriculture = ee.FeatureCollection('users/patikan/marmaris_agronomy_train_set') \n",
        "test_agriculture = ee.FeatureCollection('users/patikan/marmaris_agronomy_test_set')\n",
        "\n",
        "# Display the train/test dataset\n",
        "db_crop = train_agriculture.merge(test_agriculture)\n",
        "center = db_crop.geometry().centroid().getInfo()['coordinates']\n",
        "center.reverse()\n",
        "\n",
        "dicc = {'train': train_agriculture.draw(**{'color': '3b8b00', 'strokeWidth': 5}).getMapId(),\n",
        "        'test' : test_agriculture.draw(**{'color': 'fcb103', 'strokeWidth': 5}).getMapId(),\n",
        "        'Marmaris':Marmaris.getInfo()\n",
        "       }\n",
        "\n",
        "Mapdisplay(center,dicc,zoom_start=12)"
      ],
      "execution_count": null,
      "outputs": [
        {
          "output_type": "execute_result",
          "data": {
            "text/html": [
              "<div style=\"width:100%;\"><div style=\"position:relative;width:100%;height:0;padding-bottom:60%;\"><span style=\"color:#565656\">Make this Notebook Trusted to load map: File -> Trust Notebook</span><iframe src=\"about:blank\" style=\"position:absolute;width:100%;height:100%;left:0;top:0;border:none !important;\" data-html=%3C%21DOCTYPE%20html%3E%0A%3Chead%3E%20%20%20%20%0A%20%20%20%20%3Cmeta%20http-equiv%3D%22content-type%22%20content%3D%22text/html%3B%20charset%3DUTF-8%22%20/%3E%0A%20%20%20%20%3Cscript%3EL_PREFER_CANVAS%3Dfalse%3B%20L_NO_TOUCH%3Dfalse%3B%20L_DISABLE_3D%3Dfalse%3B%3C/script%3E%0A%20%20%20%20%3Cscript%20src%3D%22https%3A//cdn.jsdelivr.net/npm/leaflet%401.4.0/dist/leaflet.js%22%3E%3C/script%3E%0A%20%20%20%20%3Cscript%20src%3D%22https%3A//code.jquery.com/jquery-1.12.4.min.js%22%3E%3C/script%3E%0A%20%20%20%20%3Cscript%20src%3D%22https%3A//maxcdn.bootstrapcdn.com/bootstrap/3.2.0/js/bootstrap.min.js%22%3E%3C/script%3E%0A%20%20%20%20%3Cscript%20src%3D%22https%3A//cdnjs.cloudflare.com/ajax/libs/Leaflet.awesome-markers/2.0.2/leaflet.awesome-markers.js%22%3E%3C/script%3E%0A%20%20%20%20%3Clink%20rel%3D%22stylesheet%22%20href%3D%22https%3A//cdn.jsdelivr.net/npm/leaflet%401.4.0/dist/leaflet.css%22/%3E%0A%20%20%20%20%3Clink%20rel%3D%22stylesheet%22%20href%3D%22https%3A//maxcdn.bootstrapcdn.com/bootstrap/3.2.0/css/bootstrap.min.css%22/%3E%0A%20%20%20%20%3Clink%20rel%3D%22stylesheet%22%20href%3D%22https%3A//maxcdn.bootstrapcdn.com/bootstrap/3.2.0/css/bootstrap-theme.min.css%22/%3E%0A%20%20%20%20%3Clink%20rel%3D%22stylesheet%22%20href%3D%22https%3A//maxcdn.bootstrapcdn.com/font-awesome/4.6.3/css/font-awesome.min.css%22/%3E%0A%20%20%20%20%3Clink%20rel%3D%22stylesheet%22%20href%3D%22https%3A//cdnjs.cloudflare.com/ajax/libs/Leaflet.awesome-markers/2.0.2/leaflet.awesome-markers.css%22/%3E%0A%20%20%20%20%3Clink%20rel%3D%22stylesheet%22%20href%3D%22https%3A//rawcdn.githack.com/python-visualization/folium/master/folium/templates/leaflet.awesome.rotate.css%22/%3E%0A%20%20%20%20%3Cstyle%3Ehtml%2C%20body%20%7Bwidth%3A%20100%25%3Bheight%3A%20100%25%3Bmargin%3A%200%3Bpadding%3A%200%3B%7D%3C/style%3E%0A%20%20%20%20%3Cstyle%3E%23map%20%7Bposition%3Aabsolute%3Btop%3A0%3Bbottom%3A0%3Bright%3A0%3Bleft%3A0%3B%7D%3C/style%3E%0A%20%20%20%20%0A%20%20%20%20%3Cmeta%20name%3D%22viewport%22%20content%3D%22width%3Ddevice-width%2C%0A%20%20%20%20%20%20%20%20initial-scale%3D1.0%2C%20maximum-scale%3D1.0%2C%20user-scalable%3Dno%22%20/%3E%0A%20%20%20%20%3Cstyle%3E%23map_85d201fdc86a409fb7d2c4a0d0d5c70c%20%7B%0A%20%20%20%20%20%20%20%20position%3A%20relative%3B%0A%20%20%20%20%20%20%20%20width%3A%20100.0%25%3B%0A%20%20%20%20%20%20%20%20height%3A%20100.0%25%3B%0A%20%20%20%20%20%20%20%20left%3A%200.0%25%3B%0A%20%20%20%20%20%20%20%20top%3A%200.0%25%3B%0A%20%20%20%20%20%20%20%20%7D%0A%20%20%20%20%3C/style%3E%0A%3C/head%3E%0A%3Cbody%3E%20%20%20%20%0A%20%20%20%20%0A%20%20%20%20%3Cdiv%20class%3D%22folium-map%22%20id%3D%22map_85d201fdc86a409fb7d2c4a0d0d5c70c%22%20%3E%3C/div%3E%0A%3C/body%3E%0A%3Cscript%3E%20%20%20%20%0A%20%20%20%20%0A%20%20%20%20%0A%20%20%20%20%20%20%20%20var%20bounds%20%3D%20null%3B%0A%20%20%20%20%0A%0A%20%20%20%20var%20map_85d201fdc86a409fb7d2c4a0d0d5c70c%20%3D%20L.map%28%0A%20%20%20%20%20%20%20%20%27map_85d201fdc86a409fb7d2c4a0d0d5c70c%27%2C%20%7B%0A%20%20%20%20%20%20%20%20center%3A%20%5B36.85529666496596%2C%2028.228219974785265%5D%2C%0A%20%20%20%20%20%20%20%20zoom%3A%2012%2C%0A%20%20%20%20%20%20%20%20maxBounds%3A%20bounds%2C%0A%20%20%20%20%20%20%20%20layers%3A%20%5B%5D%2C%0A%20%20%20%20%20%20%20%20worldCopyJump%3A%20false%2C%0A%20%20%20%20%20%20%20%20crs%3A%20L.CRS.EPSG3857%2C%0A%20%20%20%20%20%20%20%20zoomControl%3A%20true%2C%0A%20%20%20%20%20%20%20%20%7D%29%3B%0A%0A%0A%20%20%20%20%0A%20%20%20%20var%20tile_layer_390a2a83b0cc4dc59dc65fe5ffd9d706%20%3D%20L.tileLayer%28%0A%20%20%20%20%20%20%20%20%27https%3A//%7Bs%7D.tile.openstreetmap.org/%7Bz%7D/%7Bx%7D/%7By%7D.png%27%2C%0A%20%20%20%20%20%20%20%20%7B%0A%20%20%20%20%20%20%20%20%22attribution%22%3A%20null%2C%0A%20%20%20%20%20%20%20%20%22detectRetina%22%3A%20false%2C%0A%20%20%20%20%20%20%20%20%22maxNativeZoom%22%3A%2018%2C%0A%20%20%20%20%20%20%20%20%22maxZoom%22%3A%2018%2C%0A%20%20%20%20%20%20%20%20%22minZoom%22%3A%200%2C%0A%20%20%20%20%20%20%20%20%22noWrap%22%3A%20false%2C%0A%20%20%20%20%20%20%20%20%22opacity%22%3A%201%2C%0A%20%20%20%20%20%20%20%20%22subdomains%22%3A%20%22abc%22%2C%0A%20%20%20%20%20%20%20%20%22tms%22%3A%20false%0A%7D%29.addTo%28map_85d201fdc86a409fb7d2c4a0d0d5c70c%29%3B%0A%20%20%20%20var%20tile_layer_fa1aa5afc979413294a89ef1e58c2ddd%20%3D%20L.tileLayer%28%0A%20%20%20%20%20%20%20%20%27https%3A//earthengine.googleapis.com/v1alpha/projects/earthengine-legacy/maps/bdf575eff9be08718c6c87c7f5094188-bc2a514d95509f138fc4192348471647/tiles/%7Bz%7D/%7Bx%7D/%7By%7D%27%2C%0A%20%20%20%20%20%20%20%20%7B%0A%20%20%20%20%20%20%20%20%22attribution%22%3A%20%22Google%20Earth%20Engine%22%2C%0A%20%20%20%20%20%20%20%20%22detectRetina%22%3A%20false%2C%0A%20%20%20%20%20%20%20%20%22maxNativeZoom%22%3A%2018%2C%0A%20%20%20%20%20%20%20%20%22maxZoom%22%3A%2018%2C%0A%20%20%20%20%20%20%20%20%22minZoom%22%3A%200%2C%0A%20%20%20%20%20%20%20%20%22noWrap%22%3A%20false%2C%0A%20%20%20%20%20%20%20%20%22opacity%22%3A%201%2C%0A%20%20%20%20%20%20%20%20%22subdomains%22%3A%20%22abc%22%2C%0A%20%20%20%20%20%20%20%20%22tms%22%3A%20false%0A%7D%29.addTo%28map_85d201fdc86a409fb7d2c4a0d0d5c70c%29%3B%0A%20%20%20%20var%20tile_layer_8a3b5021db004c31a0fc52404b0d7c82%20%3D%20L.tileLayer%28%0A%20%20%20%20%20%20%20%20%27https%3A//earthengine.googleapis.com/v1alpha/projects/earthengine-legacy/maps/72089158f7d9340f815eadf450ae5b22-83d545ff831de5de36ffe2a6f9e324b0/tiles/%7Bz%7D/%7Bx%7D/%7By%7D%27%2C%0A%20%20%20%20%20%20%20%20%7B%0A%20%20%20%20%20%20%20%20%22attribution%22%3A%20%22Google%20Earth%20Engine%22%2C%0A%20%20%20%20%20%20%20%20%22detectRetina%22%3A%20false%2C%0A%20%20%20%20%20%20%20%20%22maxNativeZoom%22%3A%2018%2C%0A%20%20%20%20%20%20%20%20%22maxZoom%22%3A%2018%2C%0A%20%20%20%20%20%20%20%20%22minZoom%22%3A%200%2C%0A%20%20%20%20%20%20%20%20%22noWrap%22%3A%20false%2C%0A%20%20%20%20%20%20%20%20%22opacity%22%3A%201%2C%0A%20%20%20%20%20%20%20%20%22subdomains%22%3A%20%22abc%22%2C%0A%20%20%20%20%20%20%20%20%22tms%22%3A%20false%0A%7D%29.addTo%28map_85d201fdc86a409fb7d2c4a0d0d5c70c%29%3B%0A%20%20%20%20%0A%20%20%20%20%20%20%20%20var%20geo_json_d2e115fb3f4d44c7835cf4c996443699%20%3D%20L.geoJson%28%0A%20%20%20%20%20%20%20%20%20%20%20%20%7B%22features%22%3A%20%5B%7B%22geometry%22%3A%20%7B%22coordinates%22%3A%20%5B%5B%5B28.3159%2C%2037.0471%5D%2C%20%5B28.3566%2C%2037.0471%5D%2C%20%5B28.3566%2C%2037.0652%5D%2C%20%5B28.3159%2C%2037.0652%5D%2C%20%5B28.3159%2C%2037.0471%5D%5D%5D%2C%20%22type%22%3A%20%22Polygon%22%7D%2C%20%22properties%22%3A%20%7B%22highlight%22%3A%20%7B%7D%2C%20%22style%22%3A%20%7B%7D%7D%2C%20%22type%22%3A%20%22Feature%22%7D%5D%2C%20%22type%22%3A%20%22FeatureCollection%22%7D%2C%0A%20%20%20%20%20%20%20%20%20%20%20%20%7B%0A%20%20%20%20%20%20%20%20%20%20%20%20%7D%0A%20%20%20%20%20%20%20%20%29.addTo%28map_85d201fdc86a409fb7d2c4a0d0d5c70c%20%29%3B%0A%20%20%20%20%20%20%20%20geo_json_d2e115fb3f4d44c7835cf4c996443699.setStyle%28function%28feature%29%20%7Breturn%20feature.properties.style%3B%7D%29%3B%0A%20%20%20%20%20%20%20%20%0A%20%20%20%20%0A%20%20%20%20%20%20%20%20%20%20%20%20var%20layer_control_e9eb98eaf44944c59017e3a30d022656%20%3D%20%7B%0A%20%20%20%20%20%20%20%20%20%20%20%20%20%20%20%20base_layers%20%3A%20%7B%20%22openstreetmap%22%20%3A%20tile_layer_390a2a83b0cc4dc59dc65fe5ffd9d706%2C%20%7D%2C%0A%20%20%20%20%20%20%20%20%20%20%20%20%20%20%20%20overlays%20%3A%20%7B%20%22train%22%20%3A%20tile_layer_fa1aa5afc979413294a89ef1e58c2ddd%2C%22test%22%20%3A%20tile_layer_8a3b5021db004c31a0fc52404b0d7c82%2C%22Marmaris%22%20%3A%20geo_json_d2e115fb3f4d44c7835cf4c996443699%2C%20%7D%0A%20%20%20%20%20%20%20%20%20%20%20%20%20%20%20%20%7D%3B%0A%20%20%20%20%20%20%20%20%20%20%20%20L.control.layers%28%0A%20%20%20%20%20%20%20%20%20%20%20%20%20%20%20%20layer_control_e9eb98eaf44944c59017e3a30d022656.base_layers%2C%0A%20%20%20%20%20%20%20%20%20%20%20%20%20%20%20%20layer_control_e9eb98eaf44944c59017e3a30d022656.overlays%2C%0A%20%20%20%20%20%20%20%20%20%20%20%20%20%20%20%20%7Bposition%3A%20%27topright%27%2C%0A%20%20%20%20%20%20%20%20%20%20%20%20%20%20%20%20%20collapsed%3A%20true%2C%0A%20%20%20%20%20%20%20%20%20%20%20%20%20%20%20%20%20autoZIndex%3A%20true%0A%20%20%20%20%20%20%20%20%20%20%20%20%20%20%20%20%7D%29.addTo%28map_85d201fdc86a409fb7d2c4a0d0d5c70c%29%3B%0A%20%20%20%20%20%20%20%20%20%20%20%20%0A%20%20%20%20%20%20%20%20%0A%3C/script%3E onload=\"this.contentDocument.open();this.contentDocument.write(    decodeURIComponent(this.getAttribute('data-html')));this.contentDocument.close();\" allowfullscreen webkitallowfullscreen mozallowfullscreen></iframe></div></div>"
            ],
            "text/plain": [
              "<folium.folium.Map at 0x7f2a0953c750>"
            ]
          },
          "metadata": {
            "tags": []
          },
          "execution_count": 7
        }
      ]
    },
    {
      "cell_type": "markdown",
      "metadata": {
        "id": "7TwdYzUwcBAs"
      },
      "source": [
        "#### 3.3 Applying Cloud Mask Filter\n",
        "**Cloud masking** is a very important application in remote sensing and an essential pre-processing step for any information derivation applications. \n",
        "\n",
        "The basic idea of this approach is to detect cloud and cloud shadow by using the difference reflectance values between clear pixels and cloud and cloud shadow contaminated pixels.\n",
        "\n",
        "GEE provides [Landsat 8 OLI/TIRS (L8)](https://developers.google.com/earth-engine/datasets/catalog/LANDSAT_LC08_C01_T1_SR) images with radiometric and geometry correction. **Cloud mask** is provided by means of the bit image `pixel_qa`. \n",
        "\n",
        "The following function allows obtaining the input data for mapping the **Marmaris** are using **Landsat 8 OLI/TIRS (L8)**."
      ]
    },
    {
      "cell_type": "code",
      "metadata": {
        "id": "ZRQx1YN7eAFl"
      },
      "source": [
        "def maskS2clouds(img):\n",
        "  '''  \n",
        "  Function to mask clouds based on the pixel_qa band of Landsat 8 SR data. See:\n",
        "  https://developers.google.com/earth-engine/datasets/catalog/LANDSAT_LC08_C01_T1_SR\n",
        "  \n",
        "  Params:\n",
        "  -------\n",
        "  - img: image input Landsat 8 SR image\n",
        "  \n",
        "  Return:\n",
        "  -------\n",
        "  cloudmasked Landsat 8 image\n",
        "  '''\n",
        "  cloudShadowBitMask = (1 << 3)\n",
        "  cloudsBitMask = (1 << 5)\n",
        "  # Get the pixel QA band.\n",
        "  qa = img.select('pixel_qa')\n",
        "  # Both flags should be set to zero, indicating clear conditions.\n",
        "  mask = qa.bitwiseAnd(cloudShadowBitMask).eq(0)\\\n",
        "           .And(qa.bitwiseAnd(cloudsBitMask).eq(0))\n",
        "  return img.updateMask(mask)     "
      ],
      "execution_count": null,
      "outputs": []
    },
    {
      "cell_type": "markdown",
      "metadata": {
        "id": "jZLnhmfzeJyU"
      },
      "source": [
        "#### 3.4 Displaying the Filtered L8 Dataset\n",
        "Applying the following filtering and reducing operations to the Landsat 8 dataset;\n",
        "\n",
        "1. Select specific bands **[R, G, B, NIR]**.\n",
        "\n",
        "2. Filter considering the cloud pixel percentage by scene (< 20%).\n",
        "\n",
        "3. Filter considering a date (selected 2019)\n",
        "\n",
        "4. Apply **mask2cloud** to each image.\n",
        "\n",
        "5. Get the median of the ImageCollection.\n",
        "\n",
        "6. Clip the image considering study area."
      ]
    },
    {
      "cell_type": "code",
      "metadata": {
        "colab": {
          "base_uri": "https://localhost:8080/",
          "height": 968
        },
        "id": "J611LQGff44o",
        "outputId": "289cfc5e-0246-447d-da6d-c3e7534d99ef"
      },
      "source": [
        "# Prepare the satellite image (Landsat-8)\n",
        "RGB_bands = ['B4','B3','B2'] #RGB\n",
        "NDVI_bands = ['B5','B4'] #NIR\n",
        "\n",
        "l8 = ee.ImageCollection(\"LANDSAT/LC08/C01/T1_SR\")\\\n",
        "               .filterBounds(db_crop)\\\n",
        "               .filterDate('2019-01-01', '2019-12-31')\\\n",
        "               .filter(ee.Filter.lt('CLOUD_COVER', 20))\\\n",
        "               .map(maskS2clouds)\\\n",
        "               .median()\\\n",
        "               .multiply(0.0001)\n",
        "\n",
        "l8_ndvi = l8.normalizedDifference(NDVI_bands).rename(['NDVI'])\n",
        "l8_rgb = l8.select(RGB_bands).rename(['R','G','B']) \n",
        "l8 = l8_rgb.addBands(l8_ndvi)\n",
        "\n",
        "from collections import OrderedDict\n",
        "# Create a visualization with folium\n",
        "visParams_l8 = {    \n",
        "  'bands': ['R', 'G', 'B'],\n",
        "  'min': 0,\n",
        "  'max': 0.5,\n",
        "  'gamma': 1.4,\n",
        "}\n",
        "\n",
        "l8Mapid = l8.getMapId(visParams_l8)\n",
        "dicc['Landsat8'] = l8Mapid\n",
        "\n",
        "# Changing the order of the dictionary\n",
        "key_order = ['Landsat8','Marmaris','train','test']\n",
        "dicc = OrderedDict((k, dicc[k]) for k in key_order)\n",
        "\n",
        "Mapdisplay(center,dicc,zoom_start=12)"
      ],
      "execution_count": null,
      "outputs": [
        {
          "output_type": "execute_result",
          "data": {
            "text/html": [
              "<div style=\"width:100%;\"><div style=\"position:relative;width:100%;height:0;padding-bottom:60%;\"><span style=\"color:#565656\">Make this Notebook Trusted to load map: File -> Trust Notebook</span><iframe src=\"about:blank\" style=\"position:absolute;width:100%;height:100%;left:0;top:0;border:none !important;\" data-html=%3C%21DOCTYPE%20html%3E%0A%3Chead%3E%20%20%20%20%0A%20%20%20%20%3Cmeta%20http-equiv%3D%22content-type%22%20content%3D%22text/html%3B%20charset%3DUTF-8%22%20/%3E%0A%20%20%20%20%3Cscript%3EL_PREFER_CANVAS%3Dfalse%3B%20L_NO_TOUCH%3Dfalse%3B%20L_DISABLE_3D%3Dfalse%3B%3C/script%3E%0A%20%20%20%20%3Cscript%20src%3D%22https%3A//cdn.jsdelivr.net/npm/leaflet%401.4.0/dist/leaflet.js%22%3E%3C/script%3E%0A%20%20%20%20%3Cscript%20src%3D%22https%3A//code.jquery.com/jquery-1.12.4.min.js%22%3E%3C/script%3E%0A%20%20%20%20%3Cscript%20src%3D%22https%3A//maxcdn.bootstrapcdn.com/bootstrap/3.2.0/js/bootstrap.min.js%22%3E%3C/script%3E%0A%20%20%20%20%3Cscript%20src%3D%22https%3A//cdnjs.cloudflare.com/ajax/libs/Leaflet.awesome-markers/2.0.2/leaflet.awesome-markers.js%22%3E%3C/script%3E%0A%20%20%20%20%3Clink%20rel%3D%22stylesheet%22%20href%3D%22https%3A//cdn.jsdelivr.net/npm/leaflet%401.4.0/dist/leaflet.css%22/%3E%0A%20%20%20%20%3Clink%20rel%3D%22stylesheet%22%20href%3D%22https%3A//maxcdn.bootstrapcdn.com/bootstrap/3.2.0/css/bootstrap.min.css%22/%3E%0A%20%20%20%20%3Clink%20rel%3D%22stylesheet%22%20href%3D%22https%3A//maxcdn.bootstrapcdn.com/bootstrap/3.2.0/css/bootstrap-theme.min.css%22/%3E%0A%20%20%20%20%3Clink%20rel%3D%22stylesheet%22%20href%3D%22https%3A//maxcdn.bootstrapcdn.com/font-awesome/4.6.3/css/font-awesome.min.css%22/%3E%0A%20%20%20%20%3Clink%20rel%3D%22stylesheet%22%20href%3D%22https%3A//cdnjs.cloudflare.com/ajax/libs/Leaflet.awesome-markers/2.0.2/leaflet.awesome-markers.css%22/%3E%0A%20%20%20%20%3Clink%20rel%3D%22stylesheet%22%20href%3D%22https%3A//rawcdn.githack.com/python-visualization/folium/master/folium/templates/leaflet.awesome.rotate.css%22/%3E%0A%20%20%20%20%3Cstyle%3Ehtml%2C%20body%20%7Bwidth%3A%20100%25%3Bheight%3A%20100%25%3Bmargin%3A%200%3Bpadding%3A%200%3B%7D%3C/style%3E%0A%20%20%20%20%3Cstyle%3E%23map%20%7Bposition%3Aabsolute%3Btop%3A0%3Bbottom%3A0%3Bright%3A0%3Bleft%3A0%3B%7D%3C/style%3E%0A%20%20%20%20%0A%20%20%20%20%3Cmeta%20name%3D%22viewport%22%20content%3D%22width%3Ddevice-width%2C%0A%20%20%20%20%20%20%20%20initial-scale%3D1.0%2C%20maximum-scale%3D1.0%2C%20user-scalable%3Dno%22%20/%3E%0A%20%20%20%20%3Cstyle%3E%23map_e02ab327738e4179821f653b49a66421%20%7B%0A%20%20%20%20%20%20%20%20position%3A%20relative%3B%0A%20%20%20%20%20%20%20%20width%3A%20100.0%25%3B%0A%20%20%20%20%20%20%20%20height%3A%20100.0%25%3B%0A%20%20%20%20%20%20%20%20left%3A%200.0%25%3B%0A%20%20%20%20%20%20%20%20top%3A%200.0%25%3B%0A%20%20%20%20%20%20%20%20%7D%0A%20%20%20%20%3C/style%3E%0A%3C/head%3E%0A%3Cbody%3E%20%20%20%20%0A%20%20%20%20%0A%20%20%20%20%3Cdiv%20class%3D%22folium-map%22%20id%3D%22map_e02ab327738e4179821f653b49a66421%22%20%3E%3C/div%3E%0A%3C/body%3E%0A%3Cscript%3E%20%20%20%20%0A%20%20%20%20%0A%20%20%20%20%0A%20%20%20%20%20%20%20%20var%20bounds%20%3D%20null%3B%0A%20%20%20%20%0A%0A%20%20%20%20var%20map_e02ab327738e4179821f653b49a66421%20%3D%20L.map%28%0A%20%20%20%20%20%20%20%20%27map_e02ab327738e4179821f653b49a66421%27%2C%20%7B%0A%20%20%20%20%20%20%20%20center%3A%20%5B36.85529666496596%2C%2028.228219974785265%5D%2C%0A%20%20%20%20%20%20%20%20zoom%3A%2012%2C%0A%20%20%20%20%20%20%20%20maxBounds%3A%20bounds%2C%0A%20%20%20%20%20%20%20%20layers%3A%20%5B%5D%2C%0A%20%20%20%20%20%20%20%20worldCopyJump%3A%20false%2C%0A%20%20%20%20%20%20%20%20crs%3A%20L.CRS.EPSG3857%2C%0A%20%20%20%20%20%20%20%20zoomControl%3A%20true%2C%0A%20%20%20%20%20%20%20%20%7D%29%3B%0A%0A%0A%20%20%20%20%0A%20%20%20%20var%20tile_layer_1ef91896dc66474f83222ab4039acab5%20%3D%20L.tileLayer%28%0A%20%20%20%20%20%20%20%20%27https%3A//%7Bs%7D.tile.openstreetmap.org/%7Bz%7D/%7Bx%7D/%7By%7D.png%27%2C%0A%20%20%20%20%20%20%20%20%7B%0A%20%20%20%20%20%20%20%20%22attribution%22%3A%20null%2C%0A%20%20%20%20%20%20%20%20%22detectRetina%22%3A%20false%2C%0A%20%20%20%20%20%20%20%20%22maxNativeZoom%22%3A%2018%2C%0A%20%20%20%20%20%20%20%20%22maxZoom%22%3A%2018%2C%0A%20%20%20%20%20%20%20%20%22minZoom%22%3A%200%2C%0A%20%20%20%20%20%20%20%20%22noWrap%22%3A%20false%2C%0A%20%20%20%20%20%20%20%20%22opacity%22%3A%201%2C%0A%20%20%20%20%20%20%20%20%22subdomains%22%3A%20%22abc%22%2C%0A%20%20%20%20%20%20%20%20%22tms%22%3A%20false%0A%7D%29.addTo%28map_e02ab327738e4179821f653b49a66421%29%3B%0A%20%20%20%20var%20tile_layer_4fe928f0e1c046c9a0ef46476273d68f%20%3D%20L.tileLayer%28%0A%20%20%20%20%20%20%20%20%27https%3A//earthengine.googleapis.com/v1alpha/projects/earthengine-legacy/maps/205e771992eeecb6e930a56a26fea09f-f10c5576ce622d955a400b285e49bc70/tiles/%7Bz%7D/%7Bx%7D/%7By%7D%27%2C%0A%20%20%20%20%20%20%20%20%7B%0A%20%20%20%20%20%20%20%20%22attribution%22%3A%20%22Google%20Earth%20Engine%22%2C%0A%20%20%20%20%20%20%20%20%22detectRetina%22%3A%20false%2C%0A%20%20%20%20%20%20%20%20%22maxNativeZoom%22%3A%2018%2C%0A%20%20%20%20%20%20%20%20%22maxZoom%22%3A%2018%2C%0A%20%20%20%20%20%20%20%20%22minZoom%22%3A%200%2C%0A%20%20%20%20%20%20%20%20%22noWrap%22%3A%20false%2C%0A%20%20%20%20%20%20%20%20%22opacity%22%3A%201%2C%0A%20%20%20%20%20%20%20%20%22subdomains%22%3A%20%22abc%22%2C%0A%20%20%20%20%20%20%20%20%22tms%22%3A%20false%0A%7D%29.addTo%28map_e02ab327738e4179821f653b49a66421%29%3B%0A%20%20%20%20%0A%20%20%20%20%20%20%20%20var%20geo_json_794c46da6c574076b9326d48633b62e4%20%3D%20L.geoJson%28%0A%20%20%20%20%20%20%20%20%20%20%20%20%7B%22features%22%3A%20%5B%7B%22geometry%22%3A%20%7B%22coordinates%22%3A%20%5B%5B%5B28.3159%2C%2037.0471%5D%2C%20%5B28.3566%2C%2037.0471%5D%2C%20%5B28.3566%2C%2037.0652%5D%2C%20%5B28.3159%2C%2037.0652%5D%2C%20%5B28.3159%2C%2037.0471%5D%5D%5D%2C%20%22type%22%3A%20%22Polygon%22%7D%2C%20%22properties%22%3A%20%7B%22highlight%22%3A%20%7B%7D%2C%20%22style%22%3A%20%7B%7D%7D%2C%20%22type%22%3A%20%22Feature%22%7D%5D%2C%20%22type%22%3A%20%22FeatureCollection%22%7D%2C%0A%20%20%20%20%20%20%20%20%20%20%20%20%7B%0A%20%20%20%20%20%20%20%20%20%20%20%20%7D%0A%20%20%20%20%20%20%20%20%29.addTo%28map_e02ab327738e4179821f653b49a66421%20%29%3B%0A%20%20%20%20%20%20%20%20geo_json_794c46da6c574076b9326d48633b62e4.setStyle%28function%28feature%29%20%7Breturn%20feature.properties.style%3B%7D%29%3B%0A%20%20%20%20%20%20%20%20%0A%20%20%20%20var%20tile_layer_06dad931a7db4dc583973a50c3fc3a82%20%3D%20L.tileLayer%28%0A%20%20%20%20%20%20%20%20%27https%3A//earthengine.googleapis.com/v1alpha/projects/earthengine-legacy/maps/bdf575eff9be08718c6c87c7f5094188-bc2a514d95509f138fc4192348471647/tiles/%7Bz%7D/%7Bx%7D/%7By%7D%27%2C%0A%20%20%20%20%20%20%20%20%7B%0A%20%20%20%20%20%20%20%20%22attribution%22%3A%20%22Google%20Earth%20Engine%22%2C%0A%20%20%20%20%20%20%20%20%22detectRetina%22%3A%20false%2C%0A%20%20%20%20%20%20%20%20%22maxNativeZoom%22%3A%2018%2C%0A%20%20%20%20%20%20%20%20%22maxZoom%22%3A%2018%2C%0A%20%20%20%20%20%20%20%20%22minZoom%22%3A%200%2C%0A%20%20%20%20%20%20%20%20%22noWrap%22%3A%20false%2C%0A%20%20%20%20%20%20%20%20%22opacity%22%3A%201%2C%0A%20%20%20%20%20%20%20%20%22subdomains%22%3A%20%22abc%22%2C%0A%20%20%20%20%20%20%20%20%22tms%22%3A%20false%0A%7D%29.addTo%28map_e02ab327738e4179821f653b49a66421%29%3B%0A%20%20%20%20var%20tile_layer_8d559aa733fc4644a256435103685b7d%20%3D%20L.tileLayer%28%0A%20%20%20%20%20%20%20%20%27https%3A//earthengine.googleapis.com/v1alpha/projects/earthengine-legacy/maps/72089158f7d9340f815eadf450ae5b22-83d545ff831de5de36ffe2a6f9e324b0/tiles/%7Bz%7D/%7Bx%7D/%7By%7D%27%2C%0A%20%20%20%20%20%20%20%20%7B%0A%20%20%20%20%20%20%20%20%22attribution%22%3A%20%22Google%20Earth%20Engine%22%2C%0A%20%20%20%20%20%20%20%20%22detectRetina%22%3A%20false%2C%0A%20%20%20%20%20%20%20%20%22maxNativeZoom%22%3A%2018%2C%0A%20%20%20%20%20%20%20%20%22maxZoom%22%3A%2018%2C%0A%20%20%20%20%20%20%20%20%22minZoom%22%3A%200%2C%0A%20%20%20%20%20%20%20%20%22noWrap%22%3A%20false%2C%0A%20%20%20%20%20%20%20%20%22opacity%22%3A%201%2C%0A%20%20%20%20%20%20%20%20%22subdomains%22%3A%20%22abc%22%2C%0A%20%20%20%20%20%20%20%20%22tms%22%3A%20false%0A%7D%29.addTo%28map_e02ab327738e4179821f653b49a66421%29%3B%0A%20%20%20%20%0A%20%20%20%20%20%20%20%20%20%20%20%20var%20layer_control_ae1fdf8e59a647bd9bbb965516b1ed79%20%3D%20%7B%0A%20%20%20%20%20%20%20%20%20%20%20%20%20%20%20%20base_layers%20%3A%20%7B%20%22openstreetmap%22%20%3A%20tile_layer_1ef91896dc66474f83222ab4039acab5%2C%20%7D%2C%0A%20%20%20%20%20%20%20%20%20%20%20%20%20%20%20%20overlays%20%3A%20%7B%20%22Landsat8%22%20%3A%20tile_layer_4fe928f0e1c046c9a0ef46476273d68f%2C%22Marmaris%22%20%3A%20geo_json_794c46da6c574076b9326d48633b62e4%2C%22train%22%20%3A%20tile_layer_06dad931a7db4dc583973a50c3fc3a82%2C%22test%22%20%3A%20tile_layer_8d559aa733fc4644a256435103685b7d%2C%20%7D%0A%20%20%20%20%20%20%20%20%20%20%20%20%20%20%20%20%7D%3B%0A%20%20%20%20%20%20%20%20%20%20%20%20L.control.layers%28%0A%20%20%20%20%20%20%20%20%20%20%20%20%20%20%20%20layer_control_ae1fdf8e59a647bd9bbb965516b1ed79.base_layers%2C%0A%20%20%20%20%20%20%20%20%20%20%20%20%20%20%20%20layer_control_ae1fdf8e59a647bd9bbb965516b1ed79.overlays%2C%0A%20%20%20%20%20%20%20%20%20%20%20%20%20%20%20%20%7Bposition%3A%20%27topright%27%2C%0A%20%20%20%20%20%20%20%20%20%20%20%20%20%20%20%20%20collapsed%3A%20true%2C%0A%20%20%20%20%20%20%20%20%20%20%20%20%20%20%20%20%20autoZIndex%3A%20true%0A%20%20%20%20%20%20%20%20%20%20%20%20%20%20%20%20%7D%29.addTo%28map_e02ab327738e4179821f653b49a66421%29%3B%0A%20%20%20%20%20%20%20%20%20%20%20%20%0A%20%20%20%20%20%20%20%20%0A%3C/script%3E onload=\"this.contentDocument.open();this.contentDocument.write(    decodeURIComponent(this.getAttribute('data-html')));this.contentDocument.close();\" allowfullscreen webkitallowfullscreen mozallowfullscreen></iframe></div></div>"
            ],
            "text/plain": [
              "<folium.folium.Map at 0x7f2a09500a90>"
            ]
          },
          "metadata": {
            "tags": []
          },
          "execution_count": 9
        }
      ]
    },
    {
      "cell_type": "markdown",
      "metadata": {
        "id": "b5gTZXnjiYtc"
      },
      "source": [
        "### **4. Preparing Train/Test Dataset**\n",
        "#### 4.1 Extract pixels values considering train/test dataset\n",
        "It will use the `ee.Image.sampleRegions` function to collocate of the train/test datasets for each L8 grid cell value. \n",
        "\n",
        "**sampleRegions** uses multiple regions (either points or polygons) and does exhaustive sampling in each region (all pixels). It converts each pixel of an image (at a given scale) that intersects one or more regions to a Feature, returning them as a FeatureCollection."
      ]
    },
    {
      "cell_type": "code",
      "metadata": {
        "id": "wSEpIt7jkCFk"
      },
      "source": [
        "# Extract pixels values considering train/test dataset\n",
        "train_db = l8.sampleRegions(collection=train_agriculture, properties=['landcover'], scale=30)\n",
        "test_db = l8.sampleRegions(collection=test_agriculture, properties=['landcover'], scale=30)\n",
        "\n",
        "from pprint import pprint\n",
        "\n",
        "# Print the first couple points to verify.\n",
        "pprint({'training': train_db.first().getInfo()})\n",
        "pprint({'testing': test_db.first().getInfo()})\n",
        "pprint({'training size': train_db.size().getInfo()})\n",
        "pprint({'testing size': test_db.size().getInfo()})"
      ],
      "execution_count": null,
      "outputs": []
    },
    {
      "cell_type": "markdown",
      "metadata": {
        "id": "IfMmuelKkKPE"
      },
      "source": [
        "#### 4.2 Exporting train/test dataset to a storage bucket\n",
        "The train/test dataset will be stored into a Google **Cloud Storage Bucket (GCS)** to acces from both GEE and Tensorflow. \n",
        "\n"
      ]
    },
    {
      "cell_type": "code",
      "metadata": {
        "colab": {
          "base_uri": "https://localhost:8080/"
        },
        "id": "YYqA9AOjlX6B",
        "outputId": "fede990e-00a6-4908-894a-f38f583da3e4"
      },
      "source": [
        "# Save dataset to Google Cloud Storage\n",
        "outputBucket = 'marmaris_agronomy' # replace with your cloud storage bucket \n",
        "\n",
        "# Before compiling, create a storage bucket in GCP\n",
        "# Make sure the bucket exists.\n",
        "print('Found cloud storage bucket.' if tf.io.gfile.exists('gs://' + outputBucket) \n",
        "    else 'Cloud storage bucket does not exist.')\n",
        "\n",
        "trainFilePrefix = 'TrainingAgriculture_'\n",
        "testFilePrefix = 'TestAgriculture_'"
      ],
      "execution_count": null,
      "outputs": [
        {
          "output_type": "stream",
          "text": [
            "Found cloud storage bucket.\n"
          ],
          "name": "stdout"
        }
      ]
    },
    {
      "cell_type": "markdown",
      "metadata": {
        "id": "rXvKeKxtPyGn"
      },
      "source": [
        "#### **If there there is no train/test dataset storage bucket**"
      ]
    },
    {
      "cell_type": "code",
      "metadata": {
        "id": "9YXkCfnjlxWv"
      },
      "source": [
        "# Create tasks for exporting the dataset from GEE to Google storage\n",
        "trainingTask = ee.batch.Export.table.toCloudStorage(\n",
        "  collection=train_db,\n",
        "  description='Training Export',\n",
        "  fileNamePrefix=trainFilePrefix,\n",
        "  bucket=outputBucket,\n",
        "  fileFormat='TFRecord')\n",
        "\n",
        "testingTask = ee.batch.Export.table.toCloudStorage(\n",
        "  collection=test_db,\n",
        "  description='Testing Export',\n",
        "  fileNamePrefix=testFilePrefix,\n",
        "  bucket=outputBucket,\n",
        "  fileFormat='TFRecord')\n",
        "\n",
        "trainingTask.start()\n",
        "testingTask.start()"
      ],
      "execution_count": null,
      "outputs": []
    },
    {
      "cell_type": "code",
      "metadata": {
        "colab": {
          "base_uri": "https://localhost:8080/"
        },
        "id": "vjepxQfsmDuO",
        "outputId": "b4a01682-9afe-478b-8751-844a98955f30"
      },
      "source": [
        "# Print all tasks.\n",
        "pprint(ee.batch.Task.list())"
      ],
      "execution_count": null,
      "outputs": [
        {
          "output_type": "stream",
          "text": [
            "[<Task 6PPVRSPWIFOCHSFUMUKBSSQP EXPORT_FEATURES: Testing Export (READY)>,\n",
            " <Task N76HHBQEWPF6W3BP2YZDAC5A EXPORT_FEATURES: Training Export (READY)>]\n"
          ],
          "name": "stdout"
        }
      ]
    },
    {
      "cell_type": "code",
      "metadata": {
        "colab": {
          "base_uri": "https://localhost:8080/"
        },
        "id": "ejSatCeMnHWi",
        "outputId": "1fa04019-a9dd-4644-b35e-526d06cd571d"
      },
      "source": [
        "file_extension = '.tfrecord.gz'\n",
        "trainFilePathc = 'gs://' + outputBucket + '/' + trainFilePrefix + file_extension\n",
        "testFilePathc = 'gs://' + outputBucket + '/' + testFilePrefix + file_extension\n",
        "\n",
        "\n",
        "print('Found training file.' if tf.io.gfile.exists(trainFilePathc) \n",
        "    else 'No training file found.')\n",
        "print('Found testing file.' if tf.io.gfile.exists(testFilePathc) \n",
        "    else 'No testing file found.')"
      ],
      "execution_count": null,
      "outputs": [
        {
          "output_type": "stream",
          "text": [
            "Found training file.\n",
            "Found testing file.\n"
          ],
          "name": "stdout"
        }
      ]
    },
    {
      "cell_type": "code",
      "metadata": {
        "id": "ctiIQV5FnIZ3"
      },
      "source": [
        "# Monitor task progress\n",
        "import time \n",
        "while trainingTask.active():\n",
        "  print('Polling for task (id: {}).'.format(trainingTask.id))\n",
        "  time.sleep(5)\n",
        "while testingTask.active():\n",
        "  print('Polling for task (id: {}).'.format(testingTask.id))\n",
        "  time.sleep(5)\n",
        "\n",
        "print('Done!')"
      ],
      "execution_count": null,
      "outputs": []
    },
    {
      "cell_type": "markdown",
      "metadata": {
        "id": "70q3u-qznWWe"
      },
      "source": [
        "### **5. Creating TensorFlow Dataset**\n",
        "Read data from the storage bucket **TFRecord** file into a `tf.data.Dataset`. Pre-process the dataset to get it into a suitable format for input to the DNN model. \n",
        "For getting more details about  `tf.data.Dataset`see the [TFdoc](https://www.tensorflow.org/guide/premade_estimators#create_input_functions)."
      ]
    },
    {
      "cell_type": "code",
      "metadata": {
        "id": "m6DyAwk-ovnl"
      },
      "source": [
        "# Fullname train/test db\n",
        "#fileNameSuffix = 'ee_export.tfrecord.gz'\n",
        "fileNameSuffix = '.tfrecord.gz'\n",
        "trainFilePath = 'gs://' + outputBucket + '/' + trainFilePrefix + fileNameSuffix\n",
        "testFilePath = 'gs://' + outputBucket + '/' + testFilePrefix + fileNameSuffix\n",
        "\n",
        "def input_fn(fileNames, numEpochs=None, shuffle=True, batchSize=16):\n",
        "  # Read `TFRecordDatasets` \n",
        "  dataset = tf.data.TFRecordDataset(fileNames, compression_type='GZIP')\n",
        "\n",
        "  # Names of the features \n",
        "  feature_columns = {\n",
        "    'R': tf.io.FixedLenFeature([], dtype=tf.float32),  \n",
        "    'G': tf.io.FixedLenFeature([], dtype=tf.float32),  \n",
        "    'B': tf.io.FixedLenFeature([], dtype=tf.float32),    \n",
        "    'NDVI': tf.io.FixedLenFeature([], dtype=tf.float32),    \n",
        "    'landcover': tf.io.FixedLenFeature([], dtype=tf.float32)\n",
        "  }\n",
        "  \n",
        "  # Make a parsing function\n",
        "  def parse(example_proto):\n",
        "    parsed_features = tf.io.parse_single_example(example_proto, feature_columns)    \n",
        "    # Separate the class labels from the training features\n",
        "    labels = parsed_features.pop('landcover')\n",
        "    return parsed_features, tf.cast(labels, tf.int32)\n",
        "  \n",
        "  # Map the function over the dataset\n",
        "  dataset = dataset.map(parse, num_parallel_calls=5)\n",
        "  if shuffle:\n",
        "    dataset = dataset.shuffle(buffer_size = batchSize * 10)\n",
        "  dataset = dataset.batch(batchSize)\n",
        "  dataset = dataset.repeat(numEpochs)\n",
        "  \n",
        "  return dataset\n",
        "\n",
        "train_dba = input_fn(trainFilePath,100,True,32)\n",
        "test_dba = input_fn(testFilePath, numEpochs=1, batchSize=1, shuffle=False)"
      ],
      "execution_count": null,
      "outputs": []
    },
    {
      "cell_type": "markdown",
      "metadata": {
        "id": "2AYSEdlxo919"
      },
      "source": [
        "### **6. Creating DNN Model with Keras**\n",
        "In this project, [TensorFlow Keras Sequential](https://www.tensorflow.org/guide/keras/sequential_model) is used as the DNN model.\n",
        "\n",
        "As explained in the definition of the problem, since the **binary classification** problem is defined in the given geographical area [1] whether it is vegetation or [2] a settlement area, in the model;\n",
        "- 2 (20x20 nodes) **Dense** layers,\n",
        "- 1 **Dropout** (regularization) layer set to 20% `weight_constraint` and\n",
        "- 1 **Output** layer is defined.\n",
        "\n",
        "Since the problem covered by the project covers non-linear classification, the nonlinear **Relu** (Rectified Linear Unit) activation function is applied, which assigns its own value to values below zero and values above zero for operations occurring in each node.\n",
        "\n",
        "With cross-entropy, *which allows the measurement of the distance from one probability distribution to another for classification,* we expect our network to estimate the correct class with a probability of 1.0.\n",
        "\n",
        "The **sigmoid** activation function is used to convert the actual valuable outputs generated by the output layer into probabilities.\n",
        "\n",
        "To obtain the final class estimate, Keras' default **accuracy** measure of 0.5 threshold probability (grade below 0.5, labeled 0 or above 1) is used.\n",
        "\n",
        "Additionally, **Early Stopping**, Tensorboard, and best model **callback** are added. A callback is a set of functions to be applied at given stages of the training procedure. You can found more details [here](https://keras.io/callbacks/)."
      ]
    },
    {
      "cell_type": "code",
      "metadata": {
        "id": "qVHT_UjRtA6Q"
      },
      "source": [
        "# Load the TensorBoard notebook extension\n",
        "%load_ext tensorboard"
      ],
      "execution_count": null,
      "outputs": []
    },
    {
      "cell_type": "code",
      "metadata": {
        "id": "Ttz46U5MsPdb",
        "colab": {
          "base_uri": "https://localhost:8080/"
        },
        "outputId": "ecd0e7b5-ec9d-4db3-ac6f-24dd6cf7900a"
      },
      "source": [
        "# TensorFlow Keras Sequential Model\n",
        "from tensorflow import keras\n",
        "from tensorflow.keras import layers\n",
        "from tensorflow.keras.callbacks import EarlyStopping, ModelCheckpoint\n",
        "from tensorflow import feature_column\n",
        "import os\n",
        "import datetime\n",
        "\n",
        "bands = ['R','G','B','NDVI']\n",
        "\n",
        "# Create a dense `Tensor` based on given `feature_columns`.\n",
        "feature_columns = [feature_column.numeric_column(x) for x in bands]\n",
        "feature_layer = tf.keras.layers.DenseFeatures(feature_columns)\n",
        "\n",
        "# Initialize the DNN model\n",
        "he_init = tf.keras.initializers.he_uniform(seed=None)\n",
        "\n",
        "# Define the layers in the model.\n",
        "model = tf.keras.Sequential([\n",
        "  feature_layer,  \n",
        "  layers.Dense(20, activation='relu',kernel_initializer=he_init),\n",
        "  tf.keras.layers.Dropout(0.2),\n",
        "  layers.Dense(20, activation='relu',kernel_initializer=he_init),\n",
        "  layers.Dense(1, activation='sigmoid',kernel_initializer=he_init)\n",
        "])\n",
        "\n",
        "# Callbacks time\n",
        "logdir = os.path.join(\"logs\", datetime.datetime.now().strftime(\"%Y%m%d-%H%M%S\"))\n",
        "tensorboard_callback = tf.keras.callbacks.TensorBoard(logdir, histogram_freq=1)\n",
        "es = EarlyStopping(monitor='val_loss', patience=10)\n",
        "mcp = ModelCheckpoint(filepath='best_model.h5', monitor='val_loss', save_best_only=True)\n",
        "\n",
        "\n",
        "# Compile the model with the specified loss function.\n",
        "model.compile(optimizer=keras.optimizers.SGD(momentum=0.01, nesterov=True),\n",
        "              loss='binary_crossentropy',              \n",
        "              metrics=['accuracy'])\n",
        "\n",
        "# Fit the model to the training data.\n",
        "history = model.fit(x=train_dba,\n",
        "          epochs=50,\n",
        "          steps_per_epoch=100,\n",
        "          callbacks=[tensorboard_callback,es,mcp],          \n",
        "          validation_data=test_dba)\n",
        "\n",
        "model.summary()"
      ],
      "execution_count": null,
      "outputs": [
        {
          "output_type": "stream",
          "text": [
            "Epoch 1/50\n",
            "WARNING:tensorflow:Layers in a Sequential model should only have a single input tensor, but we receive a <class 'dict'> input: {'B': <tf.Tensor 'ExpandDims:0' shape=(None, 1) dtype=float32>, 'G': <tf.Tensor 'ExpandDims_1:0' shape=(None, 1) dtype=float32>, 'NDVI': <tf.Tensor 'ExpandDims_2:0' shape=(None, 1) dtype=float32>, 'R': <tf.Tensor 'ExpandDims_3:0' shape=(None, 1) dtype=float32>}\n",
            "Consider rewriting this model with the Functional API.\n",
            "WARNING:tensorflow:Layers in a Sequential model should only have a single input tensor, but we receive a <class 'dict'> input: {'B': <tf.Tensor 'ExpandDims:0' shape=(None, 1) dtype=float32>, 'G': <tf.Tensor 'ExpandDims_1:0' shape=(None, 1) dtype=float32>, 'NDVI': <tf.Tensor 'ExpandDims_2:0' shape=(None, 1) dtype=float32>, 'R': <tf.Tensor 'ExpandDims_3:0' shape=(None, 1) dtype=float32>}\n",
            "Consider rewriting this model with the Functional API.\n",
            " 93/100 [==========================>...] - ETA: 0s - loss: 0.7028 - accuracy: 0.5138WARNING:tensorflow:Layers in a Sequential model should only have a single input tensor, but we receive a <class 'dict'> input: {'B': <tf.Tensor 'ExpandDims:0' shape=(None, 1) dtype=float32>, 'G': <tf.Tensor 'ExpandDims_1:0' shape=(None, 1) dtype=float32>, 'NDVI': <tf.Tensor 'ExpandDims_2:0' shape=(None, 1) dtype=float32>, 'R': <tf.Tensor 'ExpandDims_3:0' shape=(None, 1) dtype=float32>}\n",
            "Consider rewriting this model with the Functional API.\n",
            "100/100 [==============================] - 2s 12ms/step - loss: 0.7038 - accuracy: 0.5028 - val_loss: 0.6864 - val_accuracy: 0.5100\n",
            "Epoch 2/50\n",
            "100/100 [==============================] - 1s 8ms/step - loss: 0.6799 - accuracy: 0.5566 - val_loss: 0.6567 - val_accuracy: 0.7800\n",
            "Epoch 3/50\n",
            "100/100 [==============================] - 1s 8ms/step - loss: 0.6629 - accuracy: 0.6578 - val_loss: 0.6348 - val_accuracy: 0.7850\n",
            "Epoch 4/50\n",
            "100/100 [==============================] - 1s 8ms/step - loss: 0.6508 - accuracy: 0.6916 - val_loss: 0.6201 - val_accuracy: 0.7850\n",
            "Epoch 5/50\n",
            "100/100 [==============================] - 1s 8ms/step - loss: 0.6397 - accuracy: 0.7056 - val_loss: 0.6086 - val_accuracy: 0.7900\n",
            "Epoch 6/50\n",
            "100/100 [==============================] - 1s 9ms/step - loss: 0.6290 - accuracy: 0.7216 - val_loss: 0.5981 - val_accuracy: 0.7900\n",
            "Epoch 7/50\n",
            "100/100 [==============================] - 1s 9ms/step - loss: 0.6229 - accuracy: 0.7191 - val_loss: 0.5881 - val_accuracy: 0.7800\n",
            "Epoch 8/50\n",
            "100/100 [==============================] - 1s 8ms/step - loss: 0.6166 - accuracy: 0.7175 - val_loss: 0.5779 - val_accuracy: 0.7850\n",
            "Epoch 9/50\n",
            "100/100 [==============================] - 1s 8ms/step - loss: 0.6087 - accuracy: 0.7212 - val_loss: 0.5681 - val_accuracy: 0.7750\n",
            "Epoch 10/50\n",
            "100/100 [==============================] - 1s 8ms/step - loss: 0.6020 - accuracy: 0.7150 - val_loss: 0.5577 - val_accuracy: 0.7900\n",
            "Epoch 11/50\n",
            "100/100 [==============================] - 1s 8ms/step - loss: 0.5917 - accuracy: 0.7312 - val_loss: 0.5480 - val_accuracy: 0.7800\n",
            "Epoch 12/50\n",
            "100/100 [==============================] - 1s 8ms/step - loss: 0.5891 - accuracy: 0.7191 - val_loss: 0.5382 - val_accuracy: 0.7800\n",
            "Epoch 13/50\n",
            "100/100 [==============================] - 1s 8ms/step - loss: 0.5773 - accuracy: 0.7281 - val_loss: 0.5293 - val_accuracy: 0.7800\n",
            "Epoch 14/50\n",
            "100/100 [==============================] - 1s 8ms/step - loss: 0.5704 - accuracy: 0.7294 - val_loss: 0.5203 - val_accuracy: 0.7750\n",
            "Epoch 15/50\n",
            "100/100 [==============================] - 1s 7ms/step - loss: 0.5668 - accuracy: 0.7259 - val_loss: 0.5116 - val_accuracy: 0.7750\n",
            "Epoch 16/50\n",
            "100/100 [==============================] - 1s 8ms/step - loss: 0.5553 - accuracy: 0.7366 - val_loss: 0.5023 - val_accuracy: 0.7850\n",
            "Epoch 17/50\n",
            "100/100 [==============================] - 1s 8ms/step - loss: 0.5497 - accuracy: 0.7391 - val_loss: 0.4965 - val_accuracy: 0.7800\n",
            "Epoch 18/50\n",
            "100/100 [==============================] - 1s 8ms/step - loss: 0.5497 - accuracy: 0.7322 - val_loss: 0.4886 - val_accuracy: 0.7750\n",
            "Epoch 19/50\n",
            "100/100 [==============================] - 1s 8ms/step - loss: 0.5401 - accuracy: 0.7447 - val_loss: 0.4842 - val_accuracy: 0.7800\n",
            "Epoch 20/50\n",
            "100/100 [==============================] - 1s 8ms/step - loss: 0.5305 - accuracy: 0.7400 - val_loss: 0.4753 - val_accuracy: 0.7850\n",
            "Epoch 21/50\n",
            "100/100 [==============================] - 1s 8ms/step - loss: 0.5332 - accuracy: 0.7366 - val_loss: 0.4731 - val_accuracy: 0.7800\n",
            "Epoch 22/50\n",
            "100/100 [==============================] - 1s 9ms/step - loss: 0.5280 - accuracy: 0.7462 - val_loss: 0.4680 - val_accuracy: 0.7800\n",
            "Epoch 23/50\n",
            "100/100 [==============================] - 1s 8ms/step - loss: 0.5178 - accuracy: 0.7556 - val_loss: 0.4634 - val_accuracy: 0.7800\n",
            "Epoch 24/50\n",
            "100/100 [==============================] - 1s 8ms/step - loss: 0.5238 - accuracy: 0.7444 - val_loss: 0.4608 - val_accuracy: 0.7800\n",
            "Epoch 25/50\n",
            "100/100 [==============================] - 1s 8ms/step - loss: 0.5185 - accuracy: 0.7469 - val_loss: 0.4581 - val_accuracy: 0.7800\n",
            "Epoch 26/50\n",
            "WARNING:tensorflow:Your input ran out of data; interrupting training. Make sure that your dataset or generator can generate at least `steps_per_epoch * epochs` batches (in this case, 5000 batches). You may need to use the repeat() function when building your dataset.\n",
            "100/100 [==============================] - 0s 3ms/step - loss: 0.5185 - accuracy: 0.7469 - val_loss: 0.4581 - val_accuracy: 0.7800\n",
            "Model: \"sequential_80\"\n",
            "_________________________________________________________________\n",
            "Layer (type)                 Output Shape              Param #   \n",
            "=================================================================\n",
            "dense_features_20 (DenseFeat multiple                  0         \n",
            "_________________________________________________________________\n",
            "dense_240 (Dense)            multiple                  100       \n",
            "_________________________________________________________________\n",
            "dropout_80 (Dropout)         multiple                  0         \n",
            "_________________________________________________________________\n",
            "dense_241 (Dense)            multiple                  420       \n",
            "_________________________________________________________________\n",
            "dense_242 (Dense)            multiple                  21        \n",
            "=================================================================\n",
            "Total params: 541\n",
            "Trainable params: 541\n",
            "Non-trainable params: 0\n",
            "_________________________________________________________________\n"
          ],
          "name": "stdout"
        }
      ]
    },
    {
      "cell_type": "code",
      "metadata": {
        "colab": {
          "base_uri": "https://localhost:8080/",
          "height": 241
        },
        "id": "cgNX_Ymts3oL",
        "outputId": "694f86b4-1c37-47df-db34-b3374cdbe5f3"
      },
      "source": [
        "%matplotlib inline\n",
        "from matplotlib import pyplot as plt\n",
        "# Plot training & validation accuracy values\n",
        "plt.figure(figsize=(14,3))\n",
        "plt.subplot(1, 2, 1)\n",
        "plt.plot(history.history['accuracy'])\n",
        "plt.plot(history.history['val_accuracy'])\n",
        "plt.title('Model accuracy')\n",
        "plt.ylabel('Accuracy')\n",
        "plt.xlabel('Epoch')\n",
        "plt.legend(['Train', 'Test'], loc='upper left')\n",
        "\n",
        "# Plot training & validation loss values\n",
        "plt.subplot(1, 2, 2)\n",
        "plt.plot(history.history['loss'])\n",
        "plt.plot(history.history['val_loss'])\n",
        "plt.title('Model loss')\n",
        "plt.ylabel('Loss')\n",
        "plt.xlabel('Epoch')\n",
        "plt.legend(['Train', 'Test'], loc='upper left')\n",
        "plt.show()"
      ],
      "execution_count": null,
      "outputs": [
        {
          "output_type": "display_data",
          "data": {
            "image/png": "[encoded data removed]",
            "text/plain": [
              "<Figure size 1008x216 with 2 Axes>"
            ]
          },
          "metadata": {
            "tags": [],
            "needs_background": "light"
          }
        }
      ]
    },
    {
      "cell_type": "code",
      "metadata": {
        "colab": {
          "base_uri": "https://localhost:8080/"
        },
        "id": "KRU1ECJ3tQ15",
        "outputId": "872cd78c-ca37-484a-b370-0be51eef7d11"
      },
      "source": [
        "model.load_weights(\"best_model.h5\")\n",
        "model.evaluate(x = test_dba)"
      ],
      "execution_count": null,
      "outputs": [
        {
          "output_type": "stream",
          "text": [
            "200/200 [==============================] - 0s 1ms/step - loss: 0.4581 - accuracy: 0.7800\n"
          ],
          "name": "stdout"
        },
        {
          "output_type": "execute_result",
          "data": {
            "text/plain": [
              "[0.4581398069858551, 0.7799999713897705]"
            ]
          },
          "metadata": {
            "tags": []
          },
          "execution_count": 86
        }
      ]
    },
    {
      "cell_type": "code",
      "metadata": {
        "id": "7sTzt7JTtULE"
      },
      "source": [
        "%tensorboard --logdir logs\n",
        "#Use '!kill (pid)' to kill it"
      ],
      "execution_count": null,
      "outputs": []
    },
    {
      "cell_type": "markdown",
      "metadata": {
        "id": "UhP6CLfPJXmh"
      },
      "source": [
        "### **7. Collective Learning** - from Fetch.AI\n",
        "<center>\n",
        "<img src=\"https://miro.medium.com/max/3840/1*5rbqEVTmPsfjKPf09a5hrQ.jpeg\">\n",
        "</center>"
      ]
    },
    {
      "cell_type": "markdown",
      "metadata": {
        "id": "iOrBu4yBBuLG"
      },
      "source": [
        "<h2>What is Collective Learning</h2>\n",
        "\n",
        "Collective Learning or colearn is a library that enables privacy-preserving decentralized machine learning tasks on the [FET network](https://fetch.ai/).\n",
        "\n",
        "**Blockchain**-mediated collective learning system enables multiple stakeholders to build a shared machine learning model without needing to rely on a central authority, and without revealing sensitive information about their dataset to the other stakeholders.\n",
        "\n",
        "The collective learning protocol allows learners to collaborate on training a model without requiring trust between the participants. Learners vote on updates to the model, and only updates which pass the quality threshold are accepted. This makes the system robust to attempts to interfere with the model by providing bad updates.\n",
        "\n",
        "For more information [Fetch.ai Colearn Web Site](https://docs.fetch.ai/colearn/)\n",
        "\n",
        "<h2>How Training Works</h2>\n",
        "<p>Training occurs in rounds; during each round the learners attempt to improve the performance of the global shared model. To do so each round an update of the global model (for example a new set of weights in a neural network) is proposed. The learners then evaluate the update and decide if the new model is better than the current global model.\n",
        "\n",
        "The detailed steps of a round updating a global model M are as follows:\n",
        "</p>\n",
        "\n",
        "*   One of the learners is selected and proposes a new updated model M’\n",
        "*   The rest of the learners validate M’\n",
        "*   If M’ has better performance than M against their private data set then the learner votes to approve\n",
        "*   If not the learner votes to reject\n",
        "*   The total votes are tallied\n",
        "*   If more than some threshold (typically 50%) of learners approve then M’ becomes the new global model. If not, M continues to be the global model\n",
        "*   A new round begins.\n",
        "\n",
        "<center>\n",
        "<img src=\"https://fetch.ai/wp-content/uploads/2020/06/Collective-Learning-Graphic-New.png\" with=\"400\" height=\"400\">\n",
        "</center> \n",
        "\n",
        "You can review the open source code on Collective Learning [Github repository](https://github.com/fetchai/colearn)"
      ]
    },
    {
      "cell_type": "markdown",
      "metadata": {
        "id": "6LSmfyvIAk9O"
      },
      "source": [
        "#### 7.1 Initialize Colearn\n",
        "I deployed related modules to my Google Drive repository.\n",
        "You can initialize colearn classes and functions by using the -m options stops the interactive mode, and loads the module following the -m - in this case it loads the pip module."
      ]
    },
    {
      "cell_type": "code",
      "metadata": {
        "id": "-vOpOMLoDVqm"
      },
      "source": [
        "from google.colab import drive\n",
        "drive.mount(\"/content/drive\")"
      ],
      "execution_count": null,
      "outputs": []
    },
    {
      "cell_type": "code",
      "metadata": {
        "id": "bW1JWjz3Bhny"
      },
      "source": [
        "%cd /content/drive/MyDrive/Colab Notebooks/colearn\n",
        "!pip install pydantic\n",
        "!python -m colearn.training\n",
        "!python -m colearn.utils.plot\n",
        "!python -m colearn.utils.results\n",
        "!python -m colearn_keras.keras_learner "
      ],
      "execution_count": null,
      "outputs": []
    },
    {
      "cell_type": "markdown",
      "metadata": {
        "id": "Jbf96c5qKj8o"
      },
      "source": [
        "#### 7.2 Load dat, Define the model, Train the model"
      ]
    },
    {
      "cell_type": "code",
      "metadata": {
        "id": "7QK5n-jCJXPc"
      },
      "source": [
        "from tensorflow.keras.callbacks import EarlyStopping, ModelCheckpoint\n",
        "import os\n",
        "import datetime\n",
        "\n",
        "from colearn.training import set_equal_weights, initial_result, collective_learning_round\n",
        "from colearn.utils.plot import ColearnPlot\n",
        "from colearn.utils.results import Results, print_results\n",
        "from colearn_keras.keras_learner import KerasLearner\n",
        "\n",
        "\n",
        "steps_per_epoch = 100\n",
        "vote_batches = 15  \n",
        "n_learners = 5\n",
        "n_rounds = 20 \n",
        "vote_threshold = 0.5\n",
        "\n",
        "bands = ['R','G','B','NDVI']\n",
        "# Create a dense `Tensor` based on given `feature_columns`.\n",
        "feature_columns = [feature_column.numeric_column(x) for x in bands]\n",
        "feature_layer = tf.keras.layers.DenseFeatures(feature_columns)\n",
        "\n",
        "# Initialize the DNN model\n",
        "he_init = tf.keras.initializers.he_uniform(seed=None)\n",
        "\n",
        "def get_model(): \n",
        "    # Define the layers in the model.\n",
        "    model = tf.keras.Sequential([\n",
        "      feature_layer,  \n",
        "      layers.Dense(10, activation='relu',kernel_initializer=he_init),\n",
        "      tf.keras.layers.Dropout(0.2),\n",
        "      layers.Dense(10, activation='relu',kernel_initializer=he_init),\n",
        "      layers.Dense(1, activation='sigmoid',kernel_initializer=he_init)\n",
        "    ])\n",
        "\n",
        "    # Callbacks \n",
        "    logdir = os.path.join(\"logs\", datetime.datetime.now().strftime(\"%Y%m%d-%H%M%S\"))\n",
        "    tensorboard_callback = tf.keras.callbacks.TensorBoard(logdir, histogram_freq=1)\n",
        "    es = EarlyStopping(monitor='val_loss', patience=10)\n",
        "    mcp = ModelCheckpoint(filepath='best_model.h5', monitor='val_loss', save_best_only=True)\n",
        "\n",
        "    # Compile the model with the specified loss function.\n",
        "    model.compile(optimizer=keras.optimizers.SGD(momentum=0.01, nesterov=True),\n",
        "                  loss='binary_crossentropy',              \n",
        "                  metrics=['accuracy'])\n",
        "    return model\n",
        "\n",
        "train_dba = input_fn(trainFilePath,100,True,32)\n",
        "test_dba = input_fn(testFilePath,100,True,32)\n",
        "train_datasets = [train_dba.shard(n_learners, i) for i in range(n_learners)]\n",
        "test_datasets = [test_dba.shard(n_learners, i) for i in range(n_learners)]\n",
        "\n",
        "all_learner_models = []\n",
        "for i in range(n_learners):\n",
        "    model = get_model()\n",
        "    all_learner_models.append(\n",
        "        KerasLearner(\n",
        "            model=model,\n",
        "            train_loader=train_datasets[i],\n",
        "            test_loader=test_datasets[i],\n",
        "            minimise_criterion=False,\n",
        "            criterion=\"accuracy\",\n",
        "            model_fit_kwargs={\"steps_per_epoch\": steps_per_epoch, \"callbacks\": [tensorboard_callback,es,mcp], \"validation_data\": test_datasets[i]},\n",
        "            model_evaluate_kwargs={\"steps\": vote_batches}            \n",
        "        ))\n",
        "\n",
        "set_equal_weights(all_learner_models)\n",
        "\n",
        "results = Results()\n",
        "# Get initial score\n",
        "results.data.append(initial_result(all_learner_models))\n",
        "\n",
        "plot = ColearnPlot(score_name=all_learner_models[0].criterion)\n",
        "\n",
        "for round_index in range(n_rounds):\n",
        "    results.data.append(\n",
        "        collective_learning_round(all_learner_models,\n",
        "                                  vote_threshold, round_index)\n",
        "    )\n",
        "\n",
        "    print_results(results)\n",
        "    plot.plot_results_and_votes(results)\n",
        "\n",
        "plot.block()\n",
        "\n",
        "print(\"Colearn Example Finished!\")    "
      ],
      "execution_count": null,
      "outputs": []
    },
    {
      "cell_type": "markdown",
      "metadata": {
        "id": "bLhas1BBtwjc"
      },
      "source": [
        "### **8. Prediction**\n",
        "#### 8.1 Preparing Lansat 8 imagery"
      ]
    },
    {
      "cell_type": "code",
      "metadata": {
        "id": "0neqVuC0tsvd"
      },
      "source": [
        "l8 = ee.ImageCollection(\"LANDSAT/LC08/C01/T1_SR\")\\\n",
        "               .filterBounds(Marmaris)\\\n",
        "               .filterDate('2019-01-01', '2019-12-31')\\\n",
        "               .filter(ee.Filter.lt('CLOUD_COVER', 20))\\\n",
        "               .map(maskS2clouds)\\\n",
        "               .median()\\\n",
        "               .multiply(0.0001)\\\n",
        "               .clip(Marmaris)\n",
        "\n",
        "l8_ndvi = l8.normalizedDifference(NDVI_bands).rename(['NDVI'])\n",
        "l8_rgb = l8.select(RGB_bands).rename(['R','G','B']) \n",
        "l8 = l8_rgb.addBands(l8_ndvi)"
      ],
      "execution_count": null,
      "outputs": []
    },
    {
      "cell_type": "markdown",
      "metadata": {
        "id": "dUFjaxiOuCJX"
      },
      "source": [
        "#### 8.2 Exporting the result to Storage Bucket\n",
        "For export the results to the Google Cloud Storage, it's preferred defines the following `formatOptions` parameters to save memory:\n",
        "\n",
        "- **patchDimensions**:\tPatch dimensions tiled over the export area, covering every pixel in the bounding box exactly once (except when the patch dimensions do not evenly divide the bounding box in which case the lower and right sides are trimmed).\n",
        "\n",
        "- **compressed**: If true, compresses the .tfrecord files with gzip and appends the \".gz\" suffix\t\n",
        "\n",
        "See all the paramerters [here](https://developers.google.com/earth-engine/exporting#configuration-parameters)."
      ]
    },
    {
      "cell_type": "code",
      "metadata": {
        "id": "kco8PL4VtvqQ"
      },
      "source": [
        "imageFilePrefix = 'MarmarisAgronomi'\n",
        "\n",
        "# Specify patch and file dimensions.\n",
        "imageExportFormatOptions = {\n",
        "  'patchDimensions': [64, 64],  \n",
        "  'maxFileSize': 100000000,    \n",
        "  'compressed': True\n",
        "}\n",
        "\n",
        "# Setup the task.\n",
        "imageTask = ee.batch.Export.image.toCloudStorage(\n",
        "  image=l8,\n",
        "  description='Image Export',\n",
        "  fileNamePrefix=imageFilePrefix,\n",
        "  bucket=outputBucket,\n",
        "  scale=30,\n",
        "  fileFormat='TFRecord',\n",
        "  region=Marmaris.getInfo()['coordinates'],\n",
        "  formatOptions=imageExportFormatOptions,\n",
        ")\n",
        "\n",
        "imageTask.start()"
      ],
      "execution_count": null,
      "outputs": []
    },
    {
      "cell_type": "code",
      "metadata": {
        "id": "RmTQGqPhuziB"
      },
      "source": [
        "import time \n",
        "while imageTask.active():\n",
        "  print('Polling for task (id: {}).'.format(imageTask.id))\n",
        "  time.sleep(5)"
      ],
      "execution_count": null,
      "outputs": []
    },
    {
      "cell_type": "markdown",
      "metadata": {
        "id": "tVJOR_mKu0uJ"
      },
      "source": [
        "#### 8.3 Classifying the image\n",
        "To classify the image that is exported from GEE to Storage Bucket using Tensorflow,  a JSON sidecar file called \"the mixer\" describes the format and geo-referencing of the image.\n",
        "\n",
        "There will be the image files and the mixer file, getting some info out of the mixer that will be useful during model inference."
      ]
    },
    {
      "cell_type": "code",
      "metadata": {
        "id": "DvTTpR46wPou",
        "colab": {
          "base_uri": "https://localhost:8080/"
        },
        "outputId": "bec1aebd-3da1-4161-ce04-dd8de9f8ecc7"
      },
      "source": [
        "filesList = !gsutil ls 'gs://'{outputBucket}\n",
        "exportFilesList = [s for s in filesList if imageFilePrefix in s]\n",
        "\n",
        "# Get the list of image files and the JSON mixer file.\n",
        "imageFilesList = []\n",
        "jsonFile = None\n",
        "for f in exportFilesList:\n",
        "  if f.endswith('.tfrecord.gz'):\n",
        "    imageFilesList.append(f)\n",
        "  elif f.endswith('.json'):\n",
        "    jsonFile = f\n",
        "\n",
        "# Make sure the files are in the right order.\n",
        "print(jsonFile)"
      ],
      "execution_count": null,
      "outputs": [
        {
          "output_type": "stream",
          "text": [
            "gs://marmaris_agronomy/MarmarisAgronomi.json\n"
          ],
          "name": "stdout"
        }
      ]
    },
    {
      "cell_type": "markdown",
      "metadata": {
        "id": "Bfu_qPpTwVlL"
      },
      "source": [
        "#### 8.4 Load the contents of the mixer file to a JSON object\n",
        "The mixer contains metadata and geo-referencing information for the exported patches, each of which is in a different file."
      ]
    },
    {
      "cell_type": "code",
      "metadata": {
        "id": "uWtxn4HFwuuB"
      },
      "source": [
        "import json\n",
        "from pprint import pprint \n",
        "\n",
        "jsonText = !gsutil cat {jsonFile}\n",
        "# Get a single string w/ newlines from the IPython.utils.text.SList\n",
        "mixer = json.loads(jsonText.nlstr)\n",
        "pprint(mixer)"
      ],
      "execution_count": null,
      "outputs": []
    },
    {
      "cell_type": "markdown",
      "metadata": {
        "id": "csKTtPUvw3OA"
      },
      "source": [
        "#### 8.5 Feeding trained model to make predictions\n",
        "The next function, mainly, is about the pixels are written into records as patches, we need to read the patches in as one big tensor (one patch for each band), then flatten them into lots of little tensors. \n",
        "\n",
        "Once the predict_input_fn is defined, that can handle the shape of the image data, all you need to do is feed it directly to the trained model to make predictions."
      ]
    },
    {
      "cell_type": "code",
      "metadata": {
        "id": "nauiIK9wyBAp"
      },
      "source": [
        "def predict_input_fn(fileNames,patch,bands):\n",
        "\n",
        "  # You have to know the following from your export.\n",
        "  PATCH_WIDTH, PATCH_HEIGHT = patch\n",
        "  PATCH_DIMENSIONS_FLAT = [PATCH_WIDTH * PATCH_HEIGHT, 1]\n",
        "\n",
        "  # Note that the tensors are in the shape of a patch, one patch for each band.\n",
        "  imageColumns = [\n",
        "    tf.io.FixedLenFeature(shape=PATCH_DIMENSIONS_FLAT, dtype=tf.float32) \n",
        "      for k in bands\n",
        "  ]\n",
        "\n",
        "  featuresDict = dict(zip(bands, imageColumns))\n",
        "  dataset = tf.data.TFRecordDataset(fileNames, compression_type='GZIP')\n",
        "  \n",
        "  # Make a parsing function\n",
        "  def parse_image(example_proto):\n",
        "    parsed_features = tf.io.parse_single_example(example_proto, featuresDict)\n",
        "    return parsed_features\n",
        "\n",
        "  dataset = dataset.map(parse_image, num_parallel_calls=4)\n",
        "  \n",
        "  # Break our long tensors into many littler ones\n",
        "  #https://stackoverflow.com/questions/50530806/using-flat-map-in-tensorflows-dataset-api\n",
        "  dataset = dataset.flat_map(lambda features: tf.data.Dataset.from_tensor_slices(features))\n",
        "\n",
        "  # Read in batches corresponding to patch size.\n",
        "  dataset = dataset.batch(PATCH_WIDTH * PATCH_HEIGHT)\n",
        "\n",
        "  return dataset"
      ],
      "execution_count": null,
      "outputs": []
    },
    {
      "cell_type": "code",
      "metadata": {
        "id": "lFVnrtFZyE6k"
      },
      "source": [
        "predict_db = predict_input_fn(fileNames=imageFilesList,patch=[64,64],bands=['R', 'G', 'B', 'NDVI'])\n",
        "predictions = model.predict(predict_db)"
      ],
      "execution_count": null,
      "outputs": []
    },
    {
      "cell_type": "markdown",
      "metadata": {
        "id": "enFdKCnuyIHD"
      },
      "source": [
        "#### 8.6 Dumping every patch-worth of predictions\n",
        "Every patch-worth of predictions, it'll be dumped an example into the output file with a single feature that holds our predictions. Since our predictions are already in the order of the exported data, the patches we create here will also be in the right order.\n",
        "\n",
        "There is a `np.array` of probabilities in \"predictions\" to write them back into a file. It will write directly from TensorFlow to a file in the output Cloud Storage bucket.\n",
        "\n",
        "Iterate over the list and write the probabilities in patches. Specifically, we need to write the pixels into the file as patches in the same order they came out. The records are written as serialized tf.train.Example protos. This might take a while."
      ]
    },
    {
      "cell_type": "code",
      "metadata": {
        "id": "l2enKgT_ydtO",
        "colab": {
          "base_uri": "https://localhost:8080/"
        },
        "outputId": "2f60104d-6cd5-4195-d139-8369239b4baa"
      },
      "source": [
        "PATCH_WIDTH , PATCH_HEIGHT = [64,64]\n",
        "outputImageFile = 'gs://' + outputBucket + '/MarmarisAgronomi.TFRecord'\n",
        "writer = tf.io.TFRecordWriter(outputImageFile)\n",
        "\n",
        "patch = []\n",
        "curPatch = 1\n",
        "for  prediction in predictions:\n",
        "  patch.append(prediction)\n",
        "  \n",
        "  if (len(patch) == PATCH_WIDTH * PATCH_HEIGHT):\n",
        "    print('Done with patch ' + str(curPatch) + '...')    \n",
        "    # Create an example\n",
        "    example = tf.train.Example(\n",
        "      features=tf.train.Features(\n",
        "        feature={\n",
        "          'crop_prob': tf.train.Feature(\n",
        "              float_list=tf.train.FloatList(\n",
        "                  value=patch))\n",
        "        }\n",
        "      )\n",
        "    )\n",
        "    \n",
        "    writer.write(example.SerializeToString())\n",
        "    patch = []\n",
        "    curPatch += 1 \n",
        "\n",
        "writer.close()"
      ],
      "execution_count": null,
      "outputs": [
        {
          "output_type": "stream",
          "text": [
            "Done with patch 1...\n",
            "Done with patch 2...\n"
          ],
          "name": "stdout"
        }
      ]
    },
    {
      "cell_type": "markdown",
      "metadata": {
        "id": "0AsqSpk_z1k7"
      },
      "source": [
        "#### 8.7 Uploading the classifications to an Earth Engine asset\n",
        "\n",
        "At this stage, there should be a predictions TFRecord file sitting in the output Cloud Storage bucket. Use the gsutil command to verify that the predictions image (and associated mixer JSON) exist and have non-zero size."
      ]
    },
    {
      "cell_type": "code",
      "metadata": {
        "id": "xyziCe5m0OmF",
        "colab": {
          "base_uri": "https://localhost:8080/"
        },
        "outputId": "d433bc18-2ce1-4383-d1b7-e13749f96b6c"
      },
      "source": [
        "!gsutil ls -l {outputImageFile}"
      ],
      "execution_count": null,
      "outputs": [
        {
          "output_type": "stream",
          "text": [
            "     32862  2021-05-31T19:16:05Z  gs://marmaris_agronomy/MarmarisAgronomi.TFRecord\n",
            "TOTAL: 1 objects, 32862 bytes (32.09 KiB)\n"
          ],
          "name": "stdout"
        }
      ]
    },
    {
      "cell_type": "markdown",
      "metadata": {
        "id": "8BbEfare0SQn"
      },
      "source": [
        "Upload the image to Earth Engine directly from the Cloud Storage bucket with the [earthengine command](https://developers.google.com/earth-engine/command_line#upload). Provide both the image TFRecord file and the JSON file as arguments to earthengine upload."
      ]
    },
    {
      "cell_type": "code",
      "metadata": {
        "id": "W_WATfLb0tBZ",
        "colab": {
          "base_uri": "https://localhost:8080/"
        },
        "outputId": "7d215631-9739-4ad5-b334-bae232d74060"
      },
      "source": [
        "USER_NAME = 'patikan' # replace with your GEE username\n",
        "outputAssetID = 'users/' + USER_NAME + '/MarmarisAgronomi'\n",
        "print('Writing to ' + outputAssetID)"
      ],
      "execution_count": null,
      "outputs": [
        {
          "output_type": "stream",
          "text": [
            "Writing to users/patikan/MarmarisAgronomi\n"
          ],
          "name": "stdout"
        }
      ]
    },
    {
      "cell_type": "markdown",
      "metadata": {
        "id": "-fjsgfse05bC"
      },
      "source": [
        "Starting the upload - this step might take a while."
      ]
    },
    {
      "cell_type": "code",
      "metadata": {
        "id": "fhRZBGM01AJS"
      },
      "source": [
        "print('outputAssetID: ' + outputAssetID + 'outputImageFile: ' +  outputImageFile + 'jsonFile: ' + jsonFile)\n",
        "!earthengine upload image --asset_id={outputAssetID} {outputImageFile} {jsonFile}"
      ],
      "execution_count": null,
      "outputs": []
    },
    {
      "cell_type": "markdown",
      "metadata": {
        "id": "NL2VYypQ1NpS"
      },
      "source": [
        "#### 8.8 Displaying Prediction\n",
        "Display the results for the selected area by using Folium!"
      ]
    },
    {
      "cell_type": "code",
      "metadata": {
        "id": "n7VA_1Wp1gVg",
        "colab": {
          "base_uri": "https://localhost:8080/",
          "height": 968
        },
        "outputId": "7e51bf6a-9568-410e-d0d7-f57cac30d726"
      },
      "source": [
        "ProbsImage = ee.Image(outputAssetID)\n",
        "predictionsImage = ee.Image(outputAssetID).gte(0.500)\n",
        "dicc = {'Marmaris':l8Mapid,'CropProbability':ProbsImage.getMapId(),\n",
        "        'Crop':predictionsImage.getMapId()}\n",
        "\n",
        "center = Marmaris.centroid().getInfo()['coordinates']\n",
        "center.reverse()\n",
        "\n",
        "Mapdisplay(center=center,dicc=dicc,zoom_start=12)"
      ],
      "execution_count": null,
      "outputs": [
        {
          "output_type": "execute_result",
          "data": {
            "text/html": [
              "<div style=\"width:100%;\"><div style=\"position:relative;width:100%;height:0;padding-bottom:60%;\"><span style=\"color:#565656\">Make this Notebook Trusted to load map: File -> Trust Notebook</span><iframe src=\"about:blank\" style=\"position:absolute;width:100%;height:100%;left:0;top:0;border:none !important;\" data-html=%3C%21DOCTYPE%20html%3E%0A%3Chead%3E%20%20%20%20%0A%20%20%20%20%3Cmeta%20http-equiv%3D%22content-type%22%20content%3D%22text/html%3B%20charset%3DUTF-8%22%20/%3E%0A%20%20%20%20%3Cscript%3EL_PREFER_CANVAS%3Dfalse%3B%20L_NO_TOUCH%3Dfalse%3B%20L_DISABLE_3D%3Dfalse%3B%3C/script%3E%0A%20%20%20%20%3Cscript%20src%3D%22https%3A//cdn.jsdelivr.net/npm/leaflet%401.4.0/dist/leaflet.js%22%3E%3C/script%3E%0A%20%20%20%20%3Cscript%20src%3D%22https%3A//code.jquery.com/jquery-1.12.4.min.js%22%3E%3C/script%3E%0A%20%20%20%20%3Cscript%20src%3D%22https%3A//maxcdn.bootstrapcdn.com/bootstrap/3.2.0/js/bootstrap.min.js%22%3E%3C/script%3E%0A%20%20%20%20%3Cscript%20src%3D%22https%3A//cdnjs.cloudflare.com/ajax/libs/Leaflet.awesome-markers/2.0.2/leaflet.awesome-markers.js%22%3E%3C/script%3E%0A%20%20%20%20%3Clink%20rel%3D%22stylesheet%22%20href%3D%22https%3A//cdn.jsdelivr.net/npm/leaflet%401.4.0/dist/leaflet.css%22/%3E%0A%20%20%20%20%3Clink%20rel%3D%22stylesheet%22%20href%3D%22https%3A//maxcdn.bootstrapcdn.com/bootstrap/3.2.0/css/bootstrap.min.css%22/%3E%0A%20%20%20%20%3Clink%20rel%3D%22stylesheet%22%20href%3D%22https%3A//maxcdn.bootstrapcdn.com/bootstrap/3.2.0/css/bootstrap-theme.min.css%22/%3E%0A%20%20%20%20%3Clink%20rel%3D%22stylesheet%22%20href%3D%22https%3A//maxcdn.bootstrapcdn.com/font-awesome/4.6.3/css/font-awesome.min.css%22/%3E%0A%20%20%20%20%3Clink%20rel%3D%22stylesheet%22%20href%3D%22https%3A//cdnjs.cloudflare.com/ajax/libs/Leaflet.awesome-markers/2.0.2/leaflet.awesome-markers.css%22/%3E%0A%20%20%20%20%3Clink%20rel%3D%22stylesheet%22%20href%3D%22https%3A//rawcdn.githack.com/python-visualization/folium/master/folium/templates/leaflet.awesome.rotate.css%22/%3E%0A%20%20%20%20%3Cstyle%3Ehtml%2C%20body%20%7Bwidth%3A%20100%25%3Bheight%3A%20100%25%3Bmargin%3A%200%3Bpadding%3A%200%3B%7D%3C/style%3E%0A%20%20%20%20%3Cstyle%3E%23map%20%7Bposition%3Aabsolute%3Btop%3A0%3Bbottom%3A0%3Bright%3A0%3Bleft%3A0%3B%7D%3C/style%3E%0A%20%20%20%20%0A%20%20%20%20%3Cmeta%20name%3D%22viewport%22%20content%3D%22width%3Ddevice-width%2C%0A%20%20%20%20%20%20%20%20initial-scale%3D1.0%2C%20maximum-scale%3D1.0%2C%20user-scalable%3Dno%22%20/%3E%0A%20%20%20%20%3Cstyle%3E%23map_90cb4c5b630841f6998a222c4d37042e%20%7B%0A%20%20%20%20%20%20%20%20position%3A%20relative%3B%0A%20%20%20%20%20%20%20%20width%3A%20100.0%25%3B%0A%20%20%20%20%20%20%20%20height%3A%20100.0%25%3B%0A%20%20%20%20%20%20%20%20left%3A%200.0%25%3B%0A%20%20%20%20%20%20%20%20top%3A%200.0%25%3B%0A%20%20%20%20%20%20%20%20%7D%0A%20%20%20%20%3C/style%3E%0A%3C/head%3E%0A%3Cbody%3E%20%20%20%20%0A%20%20%20%20%0A%20%20%20%20%3Cdiv%20class%3D%22folium-map%22%20id%3D%22map_90cb4c5b630841f6998a222c4d37042e%22%20%3E%3C/div%3E%0A%3C/body%3E%0A%3Cscript%3E%20%20%20%20%0A%20%20%20%20%0A%20%20%20%20%0A%20%20%20%20%20%20%20%20var%20bounds%20%3D%20null%3B%0A%20%20%20%20%0A%0A%20%20%20%20var%20map_90cb4c5b630841f6998a222c4d37042e%20%3D%20L.map%28%0A%20%20%20%20%20%20%20%20%27map_90cb4c5b630841f6998a222c4d37042e%27%2C%20%7B%0A%20%20%20%20%20%20%20%20center%3A%20%5B37.05615137814542%2C%2028.33624999999642%5D%2C%0A%20%20%20%20%20%20%20%20zoom%3A%2012%2C%0A%20%20%20%20%20%20%20%20maxBounds%3A%20bounds%2C%0A%20%20%20%20%20%20%20%20layers%3A%20%5B%5D%2C%0A%20%20%20%20%20%20%20%20worldCopyJump%3A%20false%2C%0A%20%20%20%20%20%20%20%20crs%3A%20L.CRS.EPSG3857%2C%0A%20%20%20%20%20%20%20%20zoomControl%3A%20true%2C%0A%20%20%20%20%20%20%20%20%7D%29%3B%0A%0A%0A%20%20%20%20%0A%20%20%20%20var%20tile_layer_bb65420016674e718f3c4a3c0aae8234%20%3D%20L.tileLayer%28%0A%20%20%20%20%20%20%20%20%27https%3A//%7Bs%7D.tile.openstreetmap.org/%7Bz%7D/%7Bx%7D/%7By%7D.png%27%2C%0A%20%20%20%20%20%20%20%20%7B%0A%20%20%20%20%20%20%20%20%22attribution%22%3A%20null%2C%0A%20%20%20%20%20%20%20%20%22detectRetina%22%3A%20false%2C%0A%20%20%20%20%20%20%20%20%22maxNativeZoom%22%3A%2018%2C%0A%20%20%20%20%20%20%20%20%22maxZoom%22%3A%2018%2C%0A%20%20%20%20%20%20%20%20%22minZoom%22%3A%200%2C%0A%20%20%20%20%20%20%20%20%22noWrap%22%3A%20false%2C%0A%20%20%20%20%20%20%20%20%22opacity%22%3A%201%2C%0A%20%20%20%20%20%20%20%20%22subdomains%22%3A%20%22abc%22%2C%0A%20%20%20%20%20%20%20%20%22tms%22%3A%20false%0A%7D%29.addTo%28map_90cb4c5b630841f6998a222c4d37042e%29%3B%0A%20%20%20%20var%20tile_layer_101d1ad35df44450821a5eadc9b395c6%20%3D%20L.tileLayer%28%0A%20%20%20%20%20%20%20%20%27https%3A//earthengine.googleapis.com/v1alpha/projects/earthengine-legacy/maps/205e771992eeecb6e930a56a26fea09f-f10c5576ce622d955a400b285e49bc70/tiles/%7Bz%7D/%7Bx%7D/%7By%7D%27%2C%0A%20%20%20%20%20%20%20%20%7B%0A%20%20%20%20%20%20%20%20%22attribution%22%3A%20%22Google%20Earth%20Engine%22%2C%0A%20%20%20%20%20%20%20%20%22detectRetina%22%3A%20false%2C%0A%20%20%20%20%20%20%20%20%22maxNativeZoom%22%3A%2018%2C%0A%20%20%20%20%20%20%20%20%22maxZoom%22%3A%2018%2C%0A%20%20%20%20%20%20%20%20%22minZoom%22%3A%200%2C%0A%20%20%20%20%20%20%20%20%22noWrap%22%3A%20false%2C%0A%20%20%20%20%20%20%20%20%22opacity%22%3A%201%2C%0A%20%20%20%20%20%20%20%20%22subdomains%22%3A%20%22abc%22%2C%0A%20%20%20%20%20%20%20%20%22tms%22%3A%20false%0A%7D%29.addTo%28map_90cb4c5b630841f6998a222c4d37042e%29%3B%0A%20%20%20%20var%20tile_layer_7c79fdbaab24437db135c07d84b50933%20%3D%20L.tileLayer%28%0A%20%20%20%20%20%20%20%20%27https%3A//earthengine.googleapis.com/v1alpha/projects/earthengine-legacy/maps/f305b907ccadd7bb0e72d6376ac8d111-1cc629211424f8e679c1ce08985ef520/tiles/%7Bz%7D/%7Bx%7D/%7By%7D%27%2C%0A%20%20%20%20%20%20%20%20%7B%0A%20%20%20%20%20%20%20%20%22attribution%22%3A%20%22Google%20Earth%20Engine%22%2C%0A%20%20%20%20%20%20%20%20%22detectRetina%22%3A%20false%2C%0A%20%20%20%20%20%20%20%20%22maxNativeZoom%22%3A%2018%2C%0A%20%20%20%20%20%20%20%20%22maxZoom%22%3A%2018%2C%0A%20%20%20%20%20%20%20%20%22minZoom%22%3A%200%2C%0A%20%20%20%20%20%20%20%20%22noWrap%22%3A%20false%2C%0A%20%20%20%20%20%20%20%20%22opacity%22%3A%201%2C%0A%20%20%20%20%20%20%20%20%22subdomains%22%3A%20%22abc%22%2C%0A%20%20%20%20%20%20%20%20%22tms%22%3A%20false%0A%7D%29.addTo%28map_90cb4c5b630841f6998a222c4d37042e%29%3B%0A%20%20%20%20var%20tile_layer_674ce7fb20944210987b0afec9137aa5%20%3D%20L.tileLayer%28%0A%20%20%20%20%20%20%20%20%27https%3A//earthengine.googleapis.com/v1alpha/projects/earthengine-legacy/maps/dba656e455694f072fc150b830da6eb9-70c7697c49ccf0e781c4102635327e5a/tiles/%7Bz%7D/%7Bx%7D/%7By%7D%27%2C%0A%20%20%20%20%20%20%20%20%7B%0A%20%20%20%20%20%20%20%20%22attribution%22%3A%20%22Google%20Earth%20Engine%22%2C%0A%20%20%20%20%20%20%20%20%22detectRetina%22%3A%20false%2C%0A%20%20%20%20%20%20%20%20%22maxNativeZoom%22%3A%2018%2C%0A%20%20%20%20%20%20%20%20%22maxZoom%22%3A%2018%2C%0A%20%20%20%20%20%20%20%20%22minZoom%22%3A%200%2C%0A%20%20%20%20%20%20%20%20%22noWrap%22%3A%20false%2C%0A%20%20%20%20%20%20%20%20%22opacity%22%3A%201%2C%0A%20%20%20%20%20%20%20%20%22subdomains%22%3A%20%22abc%22%2C%0A%20%20%20%20%20%20%20%20%22tms%22%3A%20false%0A%7D%29.addTo%28map_90cb4c5b630841f6998a222c4d37042e%29%3B%0A%20%20%20%20%0A%20%20%20%20%20%20%20%20%20%20%20%20var%20layer_control_092d3fe0d4d24cc098cba4c4dbb0af4a%20%3D%20%7B%0A%20%20%20%20%20%20%20%20%20%20%20%20%20%20%20%20base_layers%20%3A%20%7B%20%22openstreetmap%22%20%3A%20tile_layer_bb65420016674e718f3c4a3c0aae8234%2C%20%7D%2C%0A%20%20%20%20%20%20%20%20%20%20%20%20%20%20%20%20overlays%20%3A%20%7B%20%22Marmaris%22%20%3A%20tile_layer_101d1ad35df44450821a5eadc9b395c6%2C%22CropProbability%22%20%3A%20tile_layer_7c79fdbaab24437db135c07d84b50933%2C%22Crop%22%20%3A%20tile_layer_674ce7fb20944210987b0afec9137aa5%2C%20%7D%0A%20%20%20%20%20%20%20%20%20%20%20%20%20%20%20%20%7D%3B%0A%20%20%20%20%20%20%20%20%20%20%20%20L.control.layers%28%0A%20%20%20%20%20%20%20%20%20%20%20%20%20%20%20%20layer_control_092d3fe0d4d24cc098cba4c4dbb0af4a.base_layers%2C%0A%20%20%20%20%20%20%20%20%20%20%20%20%20%20%20%20layer_control_092d3fe0d4d24cc098cba4c4dbb0af4a.overlays%2C%0A%20%20%20%20%20%20%20%20%20%20%20%20%20%20%20%20%7Bposition%3A%20%27topright%27%2C%0A%20%20%20%20%20%20%20%20%20%20%20%20%20%20%20%20%20collapsed%3A%20true%2C%0A%20%20%20%20%20%20%20%20%20%20%20%20%20%20%20%20%20autoZIndex%3A%20true%0A%20%20%20%20%20%20%20%20%20%20%20%20%20%20%20%20%7D%29.addTo%28map_90cb4c5b630841f6998a222c4d37042e%29%3B%0A%20%20%20%20%20%20%20%20%20%20%20%20%0A%20%20%20%20%20%20%20%20%0A%3C/script%3E onload=\"this.contentDocument.open();this.contentDocument.write(    decodeURIComponent(this.getAttribute('data-html')));this.contentDocument.close();\" allowfullscreen webkitallowfullscreen mozallowfullscreen></iframe></div></div>"
            ],
            "text/plain": [
              "<folium.folium.Map at 0x7f29fb6e5590>"
            ]
          },
          "metadata": {
            "tags": []
          },
          "execution_count": 72
        }
      ]
    }
  ]
} 
